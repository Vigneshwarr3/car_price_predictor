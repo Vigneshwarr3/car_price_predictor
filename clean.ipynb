{
 "cells": [
  {
   "cell_type": "code",
   "execution_count": 987,
   "metadata": {},
   "outputs": [],
   "source": [
    "import pandas as pd\n",
    "import re"
   ]
  },
  {
   "cell_type": "code",
   "execution_count": 988,
   "metadata": {},
   "outputs": [],
   "source": [
    "df = pd.read_csv('car_data.csv')"
   ]
  },
  {
   "cell_type": "code",
   "execution_count": 989,
   "metadata": {},
   "outputs": [
    {
     "data": {
      "text/html": [
       "<div>\n",
       "<style scoped>\n",
       "    .dataframe tbody tr th:only-of-type {\n",
       "        vertical-align: middle;\n",
       "    }\n",
       "\n",
       "    .dataframe tbody tr th {\n",
       "        vertical-align: top;\n",
       "    }\n",
       "\n",
       "    .dataframe thead th {\n",
       "        text-align: right;\n",
       "    }\n",
       "</style>\n",
       "<table border=\"1\" class=\"dataframe\">\n",
       "  <thead>\n",
       "    <tr style=\"text-align: right;\">\n",
       "      <th></th>\n",
       "      <th>bodyType</th>\n",
       "      <th>curbWeight</th>\n",
       "      <th>cvnaCategories</th>\n",
       "      <th>doors</th>\n",
       "      <th>drivetrainDescription</th>\n",
       "      <th>engineDescription</th>\n",
       "      <th>exteriorColor</th>\n",
       "      <th>exteriorColorOEM</th>\n",
       "      <th>fairMarketValue</th>\n",
       "      <th>frontHeadRoom</th>\n",
       "      <th>...</th>\n",
       "      <th>highlights</th>\n",
       "      <th>towCapacity</th>\n",
       "      <th>brochureUrl</th>\n",
       "      <th>windowStickerUrl</th>\n",
       "      <th>evMpgeCity</th>\n",
       "      <th>evMpgeHighway</th>\n",
       "      <th>evRange</th>\n",
       "      <th>evTaxCreditAmount</th>\n",
       "      <th>remainingBatteryWarrantyMiles</th>\n",
       "      <th>remainingBatteryWarrantyMonths</th>\n",
       "    </tr>\n",
       "  </thead>\n",
       "  <tbody>\n",
       "    <tr>\n",
       "      <th>0</th>\n",
       "      <td>Wagon</td>\n",
       "      <td>2888.0</td>\n",
       "      <td>[{'name': 'Braking &amp; Traction', 'cvnaFeatures'...</td>\n",
       "      <td>4</td>\n",
       "      <td>FWD</td>\n",
       "      <td>4-Cyl, 2.0 Liter</td>\n",
       "      <td>White</td>\n",
       "      <td>Snow White Pearl</td>\n",
       "      <td>19015.0</td>\n",
       "      <td>39.9</td>\n",
       "      <td>...</td>\n",
       "      <td>NaN</td>\n",
       "      <td>NaN</td>\n",
       "      <td>NaN</td>\n",
       "      <td>NaN</td>\n",
       "      <td>0.0</td>\n",
       "      <td>0.0</td>\n",
       "      <td>0.0</td>\n",
       "      <td>NaN</td>\n",
       "      <td>NaN</td>\n",
       "      <td>NaN</td>\n",
       "    </tr>\n",
       "    <tr>\n",
       "      <th>1</th>\n",
       "      <td>Truck</td>\n",
       "      <td>5898.0</td>\n",
       "      <td>[{'name': 'Braking &amp; Traction', 'cvnaFeatures'...</td>\n",
       "      <td>4</td>\n",
       "      <td>4WD</td>\n",
       "      <td>V8, 5.6 Liter</td>\n",
       "      <td>Red</td>\n",
       "      <td>Cardinal Red Metallic</td>\n",
       "      <td>38172.0</td>\n",
       "      <td>41.0</td>\n",
       "      <td>...</td>\n",
       "      <td>[{'isResultTileDisplayable': False, 'isVdpDisp...</td>\n",
       "      <td>9210.0</td>\n",
       "      <td>NaN</td>\n",
       "      <td>NaN</td>\n",
       "      <td>0.0</td>\n",
       "      <td>0.0</td>\n",
       "      <td>0.0</td>\n",
       "      <td>NaN</td>\n",
       "      <td>NaN</td>\n",
       "      <td>NaN</td>\n",
       "    </tr>\n",
       "    <tr>\n",
       "      <th>2</th>\n",
       "      <td>Sedan</td>\n",
       "      <td>2859.0</td>\n",
       "      <td>[{'name': 'Braking &amp; Traction', 'cvnaFeatures'...</td>\n",
       "      <td>4</td>\n",
       "      <td>FWD</td>\n",
       "      <td>4-Cyl, 2.0 Liter</td>\n",
       "      <td>Black</td>\n",
       "      <td>Black</td>\n",
       "      <td>7230.0</td>\n",
       "      <td>38.2</td>\n",
       "      <td>...</td>\n",
       "      <td>[{'isResultTileDisplayable': False, 'isVdpDisp...</td>\n",
       "      <td>NaN</td>\n",
       "      <td>https://brochure.carvana.io/volkswagen/2015-je...</td>\n",
       "      <td>NaN</td>\n",
       "      <td>0.0</td>\n",
       "      <td>0.0</td>\n",
       "      <td>0.0</td>\n",
       "      <td>NaN</td>\n",
       "      <td>NaN</td>\n",
       "      <td>NaN</td>\n",
       "    </tr>\n",
       "    <tr>\n",
       "      <th>3</th>\n",
       "      <td>Truck</td>\n",
       "      <td>4279.0</td>\n",
       "      <td>[{'name': 'Braking &amp; Traction', 'cvnaFeatures'...</td>\n",
       "      <td>4</td>\n",
       "      <td>FWD</td>\n",
       "      <td>V6, i-VTEC, 3.5 Liter</td>\n",
       "      <td>Black</td>\n",
       "      <td>NaN</td>\n",
       "      <td>25582.0</td>\n",
       "      <td>40.1</td>\n",
       "      <td>...</td>\n",
       "      <td>[{'isResultTileDisplayable': False, 'isVdpDisp...</td>\n",
       "      <td>5000.0</td>\n",
       "      <td>https://brochure.carvana.io/honda/2019-ridgeli...</td>\n",
       "      <td>NaN</td>\n",
       "      <td>0.0</td>\n",
       "      <td>0.0</td>\n",
       "      <td>0.0</td>\n",
       "      <td>NaN</td>\n",
       "      <td>NaN</td>\n",
       "      <td>NaN</td>\n",
       "    </tr>\n",
       "    <tr>\n",
       "      <th>4</th>\n",
       "      <td>SUV</td>\n",
       "      <td>3490.0</td>\n",
       "      <td>[{'name': 'Braking &amp; Traction', 'cvnaFeatures'...</td>\n",
       "      <td>4</td>\n",
       "      <td>AWD</td>\n",
       "      <td>4-Cyl, Turbo, 1.5 Liter</td>\n",
       "      <td>White</td>\n",
       "      <td>Summit White</td>\n",
       "      <td>28755.0</td>\n",
       "      <td>40.0</td>\n",
       "      <td>...</td>\n",
       "      <td>[{'isResultTileDisplayable': False, 'isVdpDisp...</td>\n",
       "      <td>1500.0</td>\n",
       "      <td>NaN</td>\n",
       "      <td>https://windowsticker.carvana.io/GeneralMotors...</td>\n",
       "      <td>0.0</td>\n",
       "      <td>0.0</td>\n",
       "      <td>0.0</td>\n",
       "      <td>NaN</td>\n",
       "      <td>NaN</td>\n",
       "      <td>NaN</td>\n",
       "    </tr>\n",
       "  </tbody>\n",
       "</table>\n",
       "<p>5 rows × 81 columns</p>\n",
       "</div>"
      ],
      "text/plain": [
       "  bodyType  curbWeight                                     cvnaCategories  \\\n",
       "0    Wagon      2888.0  [{'name': 'Braking & Traction', 'cvnaFeatures'...   \n",
       "1    Truck      5898.0  [{'name': 'Braking & Traction', 'cvnaFeatures'...   \n",
       "2    Sedan      2859.0  [{'name': 'Braking & Traction', 'cvnaFeatures'...   \n",
       "3    Truck      4279.0  [{'name': 'Braking & Traction', 'cvnaFeatures'...   \n",
       "4      SUV      3490.0  [{'name': 'Braking & Traction', 'cvnaFeatures'...   \n",
       "\n",
       "   doors drivetrainDescription        engineDescription exteriorColor  \\\n",
       "0      4                   FWD         4-Cyl, 2.0 Liter         White   \n",
       "1      4                   4WD            V8, 5.6 Liter           Red   \n",
       "2      4                   FWD         4-Cyl, 2.0 Liter         Black   \n",
       "3      4                   FWD    V6, i-VTEC, 3.5 Liter         Black   \n",
       "4      4                   AWD  4-Cyl, Turbo, 1.5 Liter         White   \n",
       "\n",
       "        exteriorColorOEM  fairMarketValue  frontHeadRoom  ...  \\\n",
       "0       Snow White Pearl          19015.0           39.9  ...   \n",
       "1  Cardinal Red Metallic          38172.0           41.0  ...   \n",
       "2                  Black           7230.0           38.2  ...   \n",
       "3                    NaN          25582.0           40.1  ...   \n",
       "4           Summit White          28755.0           40.0  ...   \n",
       "\n",
       "                                          highlights  towCapacity  \\\n",
       "0                                                NaN          NaN   \n",
       "1  [{'isResultTileDisplayable': False, 'isVdpDisp...       9210.0   \n",
       "2  [{'isResultTileDisplayable': False, 'isVdpDisp...          NaN   \n",
       "3  [{'isResultTileDisplayable': False, 'isVdpDisp...       5000.0   \n",
       "4  [{'isResultTileDisplayable': False, 'isVdpDisp...       1500.0   \n",
       "\n",
       "                                         brochureUrl  \\\n",
       "0                                                NaN   \n",
       "1                                                NaN   \n",
       "2  https://brochure.carvana.io/volkswagen/2015-je...   \n",
       "3  https://brochure.carvana.io/honda/2019-ridgeli...   \n",
       "4                                                NaN   \n",
       "\n",
       "                                    windowStickerUrl  evMpgeCity  \\\n",
       "0                                                NaN         0.0   \n",
       "1                                                NaN         0.0   \n",
       "2                                                NaN         0.0   \n",
       "3                                                NaN         0.0   \n",
       "4  https://windowsticker.carvana.io/GeneralMotors...         0.0   \n",
       "\n",
       "  evMpgeHighway  evRange evTaxCreditAmount remainingBatteryWarrantyMiles  \\\n",
       "0           0.0      0.0               NaN                           NaN   \n",
       "1           0.0      0.0               NaN                           NaN   \n",
       "2           0.0      0.0               NaN                           NaN   \n",
       "3           0.0      0.0               NaN                           NaN   \n",
       "4           0.0      0.0               NaN                           NaN   \n",
       "\n",
       "  remainingBatteryWarrantyMonths  \n",
       "0                            NaN  \n",
       "1                            NaN  \n",
       "2                            NaN  \n",
       "3                            NaN  \n",
       "4                            NaN  \n",
       "\n",
       "[5 rows x 81 columns]"
      ]
     },
     "execution_count": 989,
     "metadata": {},
     "output_type": "execute_result"
    }
   ],
   "source": [
    "df.head()"
   ]
  },
  {
   "cell_type": "markdown",
   "metadata": {},
   "source": [
    "### Filling in null values"
   ]
  },
  {
   "cell_type": "code",
   "execution_count": 990,
   "metadata": {},
   "outputs": [],
   "source": [
    "def fill_null_values(data, groupby_cols, result_col):\n",
    "    return data[result_col].fillna(df.groupby(groupby_cols)[result_col].transform('mean')).round()"
   ]
  },
  {
   "cell_type": "code",
   "execution_count": 991,
   "metadata": {},
   "outputs": [],
   "source": [
    "#### Horsepower\n",
    "df['horsePower'] = fill_null_values(df, ['engineDescription'], 'horsePower')\n",
    "\n",
    "\n",
    "#groundClearance\n",
    "df['groundClearance'] = fill_null_values(df, ['make', 'model'], 'groundClearance')\n",
    "\n",
    "#mpgCity\n",
    "df['mpgCity'] = fill_null_values(df, ['make', 'model'], 'mpgCity')\n",
    "\n",
    "df['mpgHighway'] = fill_null_values(df, ['make', 'model'], 'mpgHighway')\n",
    "\n",
    "df['evMpgeCity'] = fill_null_values(df, ['make', 'model'], 'evMpgeCity')\n",
    "\n",
    "df['evMpgeHighway'] = fill_null_values(df, ['make', 'model'], 'evMpgeHighway')\n",
    "\n",
    "df['trunkCapacity'] = fill_null_values(df, ['make', 'model'], 'trunkCapacity')"
   ]
  },
  {
   "cell_type": "code",
   "execution_count": 992,
   "metadata": {},
   "outputs": [],
   "source": [
    "required_cols = [\n",
    "    'make',\n",
    "    'model',\n",
    "    'bodyType',\n",
    "    'year',\n",
    "    'seating',\n",
    "    'owners',\n",
    "    'fuelDescription',\n",
    "    'horsePower',\n",
    "    'drivetrainDescription',\n",
    "    'transmission',\n",
    "    'trunkCapacity',\n",
    "    'bedLength',\n",
    "    'mileage',\n",
    "    'mpgCity',\n",
    "    'mpgHighway',\n",
    "    'evRange',\n",
    "    'evMpgeCity',\n",
    "    'evMpgeHighway',\n",
    "    'isAutocheckReportAccidentVehicle',\n",
    "    'price',\n",
    "    'url'\n",
    "]"
   ]
  },
  {
   "cell_type": "code",
   "execution_count": 993,
   "metadata": {},
   "outputs": [],
   "source": [
    "car_data = df[required_cols]"
   ]
  },
  {
   "cell_type": "markdown",
   "metadata": {},
   "source": [
    "### Cleaning Transmission column"
   ]
  },
  {
   "cell_type": "code",
   "execution_count": 994,
   "metadata": {},
   "outputs": [],
   "source": [
    "def cleanTransmission(x):\n",
    "\n",
    "    if 'manual' in x.lower():\n",
    "        return 'Manual'\n",
    "    else:\n",
    "        return 'Auto'\n",
    "    \n",
    "\n",
    "car_data.loc[:, 'transmission']=car_data['transmission'].apply(lambda x: cleanTransmission(x))"
   ]
  },
  {
   "cell_type": "code",
   "execution_count": 995,
   "metadata": {},
   "outputs": [
    {
     "data": {
      "text/plain": [
       "transmission\n",
       "Auto      10342\n",
       "Manual      865\n",
       "Name: count, dtype: int64"
      ]
     },
     "execution_count": 995,
     "metadata": {},
     "output_type": "execute_result"
    }
   ],
   "source": [
    "car_data.loc[:,'transmission'].value_counts()"
   ]
  },
  {
   "cell_type": "markdown",
   "metadata": {},
   "source": [
    "### Finding Age of the car from Year"
   ]
  },
  {
   "cell_type": "code",
   "execution_count": 996,
   "metadata": {},
   "outputs": [
    {
     "name": "stderr",
     "output_type": "stream",
     "text": [
      "/var/folders/bk/xhs0vwln2116v0d35hflv8b80000gn/T/ipykernel_1884/675059998.py:1: SettingWithCopyWarning: \n",
      "A value is trying to be set on a copy of a slice from a DataFrame.\n",
      "Try using .loc[row_indexer,col_indexer] = value instead\n",
      "\n",
      "See the caveats in the documentation: https://pandas.pydata.org/pandas-docs/stable/user_guide/indexing.html#returning-a-view-versus-a-copy\n",
      "  car_data['age'] = 2025 - car_data['year']\n"
     ]
    }
   ],
   "source": [
    "car_data['age'] = 2025 - car_data['year']"
   ]
  },
  {
   "cell_type": "markdown",
   "metadata": {},
   "source": [
    "### Changing Column names"
   ]
  },
  {
   "cell_type": "code",
   "execution_count": 997,
   "metadata": {},
   "outputs": [
    {
     "name": "stderr",
     "output_type": "stream",
     "text": [
      "/var/folders/bk/xhs0vwln2116v0d35hflv8b80000gn/T/ipykernel_1884/1814660583.py:1: SettingWithCopyWarning: \n",
      "A value is trying to be set on a copy of a slice from a DataFrame\n",
      "\n",
      "See the caveats in the documentation: https://pandas.pydata.org/pandas-docs/stable/user_guide/indexing.html#returning-a-view-versus-a-copy\n",
      "  car_data.rename(columns={\n"
     ]
    }
   ],
   "source": [
    "car_data.rename(columns={\n",
    "    'seating': 'seats', \n",
    "    'owners': 'numOfOwners',\n",
    "    'fuelDescription': 'fuelType',\n",
    "    'milage': 'milesDriven',\n",
    "    'isAutocheckReportAccidentVehicle': 'hasReportedAccident'}, inplace=True)"
   ]
  },
  {
   "cell_type": "code",
   "execution_count": 998,
   "metadata": {},
   "outputs": [
    {
     "data": {
      "text/html": [
       "<div>\n",
       "<style scoped>\n",
       "    .dataframe tbody tr th:only-of-type {\n",
       "        vertical-align: middle;\n",
       "    }\n",
       "\n",
       "    .dataframe tbody tr th {\n",
       "        vertical-align: top;\n",
       "    }\n",
       "\n",
       "    .dataframe thead th {\n",
       "        text-align: right;\n",
       "    }\n",
       "</style>\n",
       "<table border=\"1\" class=\"dataframe\">\n",
       "  <thead>\n",
       "    <tr style=\"text-align: right;\">\n",
       "      <th></th>\n",
       "      <th>make</th>\n",
       "      <th>model</th>\n",
       "      <th>bodyType</th>\n",
       "      <th>year</th>\n",
       "      <th>seats</th>\n",
       "      <th>numOfOwners</th>\n",
       "      <th>fuelType</th>\n",
       "      <th>horsePower</th>\n",
       "      <th>drivetrainDescription</th>\n",
       "      <th>transmission</th>\n",
       "      <th>...</th>\n",
       "      <th>mileage</th>\n",
       "      <th>mpgCity</th>\n",
       "      <th>mpgHighway</th>\n",
       "      <th>evRange</th>\n",
       "      <th>evMpgeCity</th>\n",
       "      <th>evMpgeHighway</th>\n",
       "      <th>hasReportedAccident</th>\n",
       "      <th>price</th>\n",
       "      <th>url</th>\n",
       "      <th>age</th>\n",
       "    </tr>\n",
       "  </thead>\n",
       "  <tbody>\n",
       "    <tr>\n",
       "      <th>0</th>\n",
       "      <td>Kia</td>\n",
       "      <td>Soul</td>\n",
       "      <td>Wagon</td>\n",
       "      <td>2024</td>\n",
       "      <td>5</td>\n",
       "      <td>1</td>\n",
       "      <td>Gas</td>\n",
       "      <td>147.0</td>\n",
       "      <td>FWD</td>\n",
       "      <td>Auto</td>\n",
       "      <td>...</td>\n",
       "      <td>12599</td>\n",
       "      <td>27.0</td>\n",
       "      <td>33.0</td>\n",
       "      <td>0.0</td>\n",
       "      <td>0.0</td>\n",
       "      <td>0.0</td>\n",
       "      <td>False</td>\n",
       "      <td>18990</td>\n",
       "      <td>https://www.carvana.com/vehicle/3474709</td>\n",
       "      <td>1</td>\n",
       "    </tr>\n",
       "    <tr>\n",
       "      <th>1</th>\n",
       "      <td>Nissan</td>\n",
       "      <td>Titan Crew Cab</td>\n",
       "      <td>Truck</td>\n",
       "      <td>2020</td>\n",
       "      <td>5</td>\n",
       "      <td>2</td>\n",
       "      <td>Gas</td>\n",
       "      <td>400.0</td>\n",
       "      <td>4WD</td>\n",
       "      <td>Auto</td>\n",
       "      <td>...</td>\n",
       "      <td>44123</td>\n",
       "      <td>15.0</td>\n",
       "      <td>21.0</td>\n",
       "      <td>0.0</td>\n",
       "      <td>0.0</td>\n",
       "      <td>0.0</td>\n",
       "      <td>False</td>\n",
       "      <td>38990</td>\n",
       "      <td>https://www.carvana.com/vehicle/3557345</td>\n",
       "      <td>5</td>\n",
       "    </tr>\n",
       "    <tr>\n",
       "      <th>2</th>\n",
       "      <td>Volkswagen</td>\n",
       "      <td>Jetta</td>\n",
       "      <td>Sedan</td>\n",
       "      <td>2015</td>\n",
       "      <td>5</td>\n",
       "      <td>3</td>\n",
       "      <td>Gas</td>\n",
       "      <td>115.0</td>\n",
       "      <td>FWD</td>\n",
       "      <td>Auto</td>\n",
       "      <td>...</td>\n",
       "      <td>72182</td>\n",
       "      <td>22.0</td>\n",
       "      <td>33.0</td>\n",
       "      <td>0.0</td>\n",
       "      <td>0.0</td>\n",
       "      <td>0.0</td>\n",
       "      <td>False</td>\n",
       "      <td>13990</td>\n",
       "      <td>https://www.carvana.com/vehicle/3456879</td>\n",
       "      <td>10</td>\n",
       "    </tr>\n",
       "    <tr>\n",
       "      <th>3</th>\n",
       "      <td>Honda</td>\n",
       "      <td>Ridgeline</td>\n",
       "      <td>Truck</td>\n",
       "      <td>2019</td>\n",
       "      <td>5</td>\n",
       "      <td>2</td>\n",
       "      <td>Gas</td>\n",
       "      <td>280.0</td>\n",
       "      <td>FWD</td>\n",
       "      <td>Auto</td>\n",
       "      <td>...</td>\n",
       "      <td>63205</td>\n",
       "      <td>18.0</td>\n",
       "      <td>25.0</td>\n",
       "      <td>0.0</td>\n",
       "      <td>0.0</td>\n",
       "      <td>0.0</td>\n",
       "      <td>False</td>\n",
       "      <td>27590</td>\n",
       "      <td>https://www.carvana.com/vehicle/3564066</td>\n",
       "      <td>6</td>\n",
       "    </tr>\n",
       "    <tr>\n",
       "      <th>4</th>\n",
       "      <td>GMC</td>\n",
       "      <td>Terrain</td>\n",
       "      <td>SUV</td>\n",
       "      <td>2024</td>\n",
       "      <td>5</td>\n",
       "      <td>1</td>\n",
       "      <td>Gas</td>\n",
       "      <td>175.0</td>\n",
       "      <td>AWD</td>\n",
       "      <td>Auto</td>\n",
       "      <td>...</td>\n",
       "      <td>19923</td>\n",
       "      <td>23.0</td>\n",
       "      <td>28.0</td>\n",
       "      <td>0.0</td>\n",
       "      <td>0.0</td>\n",
       "      <td>0.0</td>\n",
       "      <td>False</td>\n",
       "      <td>25590</td>\n",
       "      <td>https://www.carvana.com/vehicle/3518239</td>\n",
       "      <td>1</td>\n",
       "    </tr>\n",
       "  </tbody>\n",
       "</table>\n",
       "<p>5 rows × 22 columns</p>\n",
       "</div>"
      ],
      "text/plain": [
       "         make           model bodyType  year  seats  numOfOwners fuelType  \\\n",
       "0         Kia            Soul    Wagon  2024      5            1      Gas   \n",
       "1      Nissan  Titan Crew Cab    Truck  2020      5            2      Gas   \n",
       "2  Volkswagen           Jetta    Sedan  2015      5            3      Gas   \n",
       "3       Honda       Ridgeline    Truck  2019      5            2      Gas   \n",
       "4         GMC         Terrain      SUV  2024      5            1      Gas   \n",
       "\n",
       "   horsePower drivetrainDescription transmission  ...  mileage  mpgCity  \\\n",
       "0       147.0                   FWD         Auto  ...    12599     27.0   \n",
       "1       400.0                   4WD         Auto  ...    44123     15.0   \n",
       "2       115.0                   FWD         Auto  ...    72182     22.0   \n",
       "3       280.0                   FWD         Auto  ...    63205     18.0   \n",
       "4       175.0                   AWD         Auto  ...    19923     23.0   \n",
       "\n",
       "   mpgHighway  evRange  evMpgeCity  evMpgeHighway  hasReportedAccident  price  \\\n",
       "0        33.0      0.0         0.0            0.0                False  18990   \n",
       "1        21.0      0.0         0.0            0.0                False  38990   \n",
       "2        33.0      0.0         0.0            0.0                False  13990   \n",
       "3        25.0      0.0         0.0            0.0                False  27590   \n",
       "4        28.0      0.0         0.0            0.0                False  25590   \n",
       "\n",
       "                                       url  age  \n",
       "0  https://www.carvana.com/vehicle/3474709    1  \n",
       "1  https://www.carvana.com/vehicle/3557345    5  \n",
       "2  https://www.carvana.com/vehicle/3456879   10  \n",
       "3  https://www.carvana.com/vehicle/3564066    6  \n",
       "4  https://www.carvana.com/vehicle/3518239    1  \n",
       "\n",
       "[5 rows x 22 columns]"
      ]
     },
     "execution_count": 998,
     "metadata": {},
     "output_type": "execute_result"
    }
   ],
   "source": [
    "car_data.head()"
   ]
  },
  {
   "cell_type": "code",
   "execution_count": 999,
   "metadata": {},
   "outputs": [
    {
     "data": {
      "text/plain": [
       "make                       0\n",
       "model                      0\n",
       "bodyType                   0\n",
       "year                       0\n",
       "seats                      0\n",
       "numOfOwners                0\n",
       "fuelType                   0\n",
       "horsePower                 0\n",
       "drivetrainDescription      0\n",
       "transmission               0\n",
       "trunkCapacity            828\n",
       "bedLength                  0\n",
       "mileage                    0\n",
       "mpgCity                  989\n",
       "mpgHighway               989\n",
       "evRange                  328\n",
       "evMpgeCity               301\n",
       "evMpgeHighway            301\n",
       "hasReportedAccident        0\n",
       "price                      0\n",
       "url                        0\n",
       "age                        0\n",
       "dtype: int64"
      ]
     },
     "execution_count": 999,
     "metadata": {},
     "output_type": "execute_result"
    }
   ],
   "source": [
    "car_data.isnull().sum()"
   ]
  },
  {
   "cell_type": "code",
   "execution_count": 1000,
   "metadata": {},
   "outputs": [
    {
     "data": {
      "text/plain": [
       "bodyType\n",
       "Truck          692\n",
       "Hatchback       69\n",
       "SUV             58\n",
       "Sedan            7\n",
       "Convertible      2\n",
       "Name: count, dtype: int64"
      ]
     },
     "execution_count": 1000,
     "metadata": {},
     "output_type": "execute_result"
    }
   ],
   "source": [
    "car_data[car_data['trunkCapacity'].isnull()]['bodyType'].value_counts()"
   ]
  },
  {
   "cell_type": "code",
   "execution_count": 1001,
   "metadata": {},
   "outputs": [],
   "source": [
    "import seaborn as sns\n",
    "import matplotlib.pyplot as plt\n",
    "import matplotlib.ticker as ticker"
   ]
  },
  {
   "cell_type": "code",
   "execution_count": 1002,
   "metadata": {},
   "outputs": [],
   "source": [
    "def format_k_m(x, pos):\n",
    "    if x >= 1e6:\n",
    "        return f'{x*1.0/1e6:.1f}M'\n",
    "    elif x >= 1e3:\n",
    "        return f'{x*1.0/1e3:.0f}K'\n",
    "    else:\n",
    "        return f'{x:.0f}'"
   ]
  },
  {
   "cell_type": "code",
   "execution_count": 1003,
   "metadata": {},
   "outputs": [],
   "source": [
    "mean_order = (\n",
    "    df.groupby('make')['price']\n",
    "    .mean()\n",
    "    .sort_values(ascending=False)\n",
    "    .index\n",
    ")"
   ]
  },
  {
   "cell_type": "code",
   "execution_count": 1004,
   "metadata": {},
   "outputs": [
    {
     "data": {
      "image/png": "[encoded data removed]",
      "text/plain": [
       "<Figure size 640x480 with 1 Axes>"
      ]
     },
     "metadata": {},
     "output_type": "display_data"
    }
   ],
   "source": [
    "sns.boxplot(data=car_data, x='make', y='price', order=mean_order)\n",
    "plt.gca().yaxis.set_major_formatter(ticker.FuncFormatter(format_k_m))\n",
    "plt.xticks(rotation=90)\n",
    "plt.ylabel(\"Price\")\n",
    "plt.tight_layout()\n",
    "plt.show()"
   ]
  },
  {
   "cell_type": "code",
   "execution_count": 1005,
   "metadata": {},
   "outputs": [
    {
     "data": {
      "text/plain": [
       "Index(['Rivian', 'Porsche', 'Genesis', 'Ram', 'Land Rover', 'Polestar',\n",
       "       'Mercedes-Benz', 'Tesla', 'Lexus', 'Jaguar', 'Cadillac', 'BMW', 'GMC',\n",
       "       'Alfa Romeo', 'Volvo', 'Audi', 'Dodge', 'Lincoln', 'Jeep', 'Toyota',\n",
       "       'Ford', 'Acura', 'Chevrolet', 'INFINITI', 'Honda', 'MAZDA', 'Chrysler',\n",
       "       'Subaru', 'Nissan', 'Hyundai', 'Kia', 'Buick', 'Mitsubishi',\n",
       "       'Volkswagen', 'MINI', 'FIAT', 'Scion', 'smart'],\n",
       "      dtype='object', name='make')"
      ]
     },
     "execution_count": 1005,
     "metadata": {},
     "output_type": "execute_result"
    }
   ],
   "source": [
    "mean_order"
   ]
  },
  {
   "cell_type": "code",
   "execution_count": 1006,
   "metadata": {},
   "outputs": [
    {
     "data": {
      "image/png": "[encoded data removed]",
      "text/plain": [
       "<Figure size 640x480 with 1 Axes>"
      ]
     },
     "metadata": {},
     "output_type": "display_data"
    }
   ],
   "source": [
    "sns.barplot(data=car_data, x='price', y='make', order=mean_order)\n",
    "plt.gca().xaxis.set_major_formatter(ticker.FuncFormatter(format_k_m))\n",
    "plt.xticks(rotation=90)\n",
    "plt.ylabel(\"Price\")\n",
    "plt.tight_layout()\n",
    "plt.show()"
   ]
  },
  {
   "cell_type": "code",
   "execution_count": 1007,
   "metadata": {},
   "outputs": [],
   "source": [
    "car_data = car_data.drop(columns=['year', 'url'])"
   ]
  },
  {
   "cell_type": "code",
   "execution_count": 1009,
   "metadata": {},
   "outputs": [],
   "source": [
    "car_data.to_csv('cleaned_data.csv')"
   ]
  },
  {
   "cell_type": "code",
   "execution_count": null,
   "metadata": {},
   "outputs": [],
   "source": []
  }
 ],
 "metadata": {
  "kernelspec": {
   "display_name": "carvana",
   "language": "python",
   "name": "python3"
  },
  "language_info": {
   "codemirror_mode": {
    "name": "ipython",
    "version": 3
   },
   "file_extension": ".py",
   "mimetype": "text/x-python",
   "name": "python",
   "nbconvert_exporter": "python",
   "pygments_lexer": "ipython3",
   "version": "3.11.11"
  }
 },
 "nbformat": 4,
 "nbformat_minor": 2
}
