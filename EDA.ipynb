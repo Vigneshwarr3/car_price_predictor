{
 "cells": [
  {
   "cell_type": "code",
   "execution_count": 1,
   "metadata": {},
   "outputs": [],
   "source": [
    "import pandas as pd\n",
    "import matplotlib.pyplot as plt\n",
    "import seaborn as sns"
   ]
  },
  {
   "cell_type": "code",
   "execution_count": 3,
   "metadata": {},
   "outputs": [
    {
     "data": {
      "text/html": [
       "<div>\n",
       "<style scoped>\n",
       "    .dataframe tbody tr th:only-of-type {\n",
       "        vertical-align: middle;\n",
       "    }\n",
       "\n",
       "    .dataframe tbody tr th {\n",
       "        vertical-align: top;\n",
       "    }\n",
       "\n",
       "    .dataframe thead th {\n",
       "        text-align: right;\n",
       "    }\n",
       "</style>\n",
       "<table border=\"1\" class=\"dataframe\">\n",
       "  <thead>\n",
       "    <tr style=\"text-align: right;\">\n",
       "      <th></th>\n",
       "      <th>make</th>\n",
       "      <th>model</th>\n",
       "      <th>bodyType</th>\n",
       "      <th>seats</th>\n",
       "      <th>numOfOwners</th>\n",
       "      <th>fuelType</th>\n",
       "      <th>horsePower</th>\n",
       "      <th>driveTrain</th>\n",
       "      <th>transmission</th>\n",
       "      <th>mileage</th>\n",
       "      <th>mpgCity</th>\n",
       "      <th>mpgHighway</th>\n",
       "      <th>evRange</th>\n",
       "      <th>evMpgeCity</th>\n",
       "      <th>evMpgeHighway</th>\n",
       "      <th>hasReportedAccident</th>\n",
       "      <th>price</th>\n",
       "      <th>age</th>\n",
       "    </tr>\n",
       "  </thead>\n",
       "  <tbody>\n",
       "    <tr>\n",
       "      <th>0</th>\n",
       "      <td>Kia</td>\n",
       "      <td>Soul</td>\n",
       "      <td>Wagon</td>\n",
       "      <td>5</td>\n",
       "      <td>1</td>\n",
       "      <td>Gas</td>\n",
       "      <td>147.0</td>\n",
       "      <td>FWD</td>\n",
       "      <td>Auto</td>\n",
       "      <td>12599</td>\n",
       "      <td>27.0</td>\n",
       "      <td>33.0</td>\n",
       "      <td>0.0</td>\n",
       "      <td>0.0</td>\n",
       "      <td>0.0</td>\n",
       "      <td>False</td>\n",
       "      <td>18990</td>\n",
       "      <td>1</td>\n",
       "    </tr>\n",
       "    <tr>\n",
       "      <th>1</th>\n",
       "      <td>Nissan</td>\n",
       "      <td>Titan Crew Cab</td>\n",
       "      <td>Truck</td>\n",
       "      <td>5</td>\n",
       "      <td>2</td>\n",
       "      <td>Gas</td>\n",
       "      <td>400.0</td>\n",
       "      <td>4WD</td>\n",
       "      <td>Auto</td>\n",
       "      <td>44123</td>\n",
       "      <td>15.0</td>\n",
       "      <td>21.0</td>\n",
       "      <td>0.0</td>\n",
       "      <td>0.0</td>\n",
       "      <td>0.0</td>\n",
       "      <td>False</td>\n",
       "      <td>38990</td>\n",
       "      <td>5</td>\n",
       "    </tr>\n",
       "    <tr>\n",
       "      <th>2</th>\n",
       "      <td>Volkswagen</td>\n",
       "      <td>Jetta</td>\n",
       "      <td>Sedan</td>\n",
       "      <td>5</td>\n",
       "      <td>3</td>\n",
       "      <td>Gas</td>\n",
       "      <td>115.0</td>\n",
       "      <td>FWD</td>\n",
       "      <td>Auto</td>\n",
       "      <td>72182</td>\n",
       "      <td>22.0</td>\n",
       "      <td>33.0</td>\n",
       "      <td>0.0</td>\n",
       "      <td>0.0</td>\n",
       "      <td>0.0</td>\n",
       "      <td>False</td>\n",
       "      <td>13990</td>\n",
       "      <td>10</td>\n",
       "    </tr>\n",
       "    <tr>\n",
       "      <th>3</th>\n",
       "      <td>Honda</td>\n",
       "      <td>Ridgeline</td>\n",
       "      <td>Truck</td>\n",
       "      <td>5</td>\n",
       "      <td>2</td>\n",
       "      <td>Gas</td>\n",
       "      <td>280.0</td>\n",
       "      <td>FWD</td>\n",
       "      <td>Auto</td>\n",
       "      <td>63205</td>\n",
       "      <td>18.0</td>\n",
       "      <td>25.0</td>\n",
       "      <td>0.0</td>\n",
       "      <td>0.0</td>\n",
       "      <td>0.0</td>\n",
       "      <td>False</td>\n",
       "      <td>27590</td>\n",
       "      <td>6</td>\n",
       "    </tr>\n",
       "    <tr>\n",
       "      <th>4</th>\n",
       "      <td>GMC</td>\n",
       "      <td>Terrain</td>\n",
       "      <td>SUV</td>\n",
       "      <td>5</td>\n",
       "      <td>1</td>\n",
       "      <td>Gas</td>\n",
       "      <td>175.0</td>\n",
       "      <td>AWD</td>\n",
       "      <td>Auto</td>\n",
       "      <td>19923</td>\n",
       "      <td>23.0</td>\n",
       "      <td>28.0</td>\n",
       "      <td>0.0</td>\n",
       "      <td>0.0</td>\n",
       "      <td>0.0</td>\n",
       "      <td>False</td>\n",
       "      <td>25590</td>\n",
       "      <td>1</td>\n",
       "    </tr>\n",
       "  </tbody>\n",
       "</table>\n",
       "</div>"
      ],
      "text/plain": [
       "         make           model bodyType  seats  numOfOwners fuelType  \\\n",
       "0         Kia            Soul    Wagon      5            1      Gas   \n",
       "1      Nissan  Titan Crew Cab    Truck      5            2      Gas   \n",
       "2  Volkswagen           Jetta    Sedan      5            3      Gas   \n",
       "3       Honda       Ridgeline    Truck      5            2      Gas   \n",
       "4         GMC         Terrain      SUV      5            1      Gas   \n",
       "\n",
       "   horsePower driveTrain transmission  mileage  mpgCity  mpgHighway  evRange  \\\n",
       "0       147.0        FWD         Auto    12599     27.0        33.0      0.0   \n",
       "1       400.0        4WD         Auto    44123     15.0        21.0      0.0   \n",
       "2       115.0        FWD         Auto    72182     22.0        33.0      0.0   \n",
       "3       280.0        FWD         Auto    63205     18.0        25.0      0.0   \n",
       "4       175.0        AWD         Auto    19923     23.0        28.0      0.0   \n",
       "\n",
       "   evMpgeCity  evMpgeHighway  hasReportedAccident  price  age  \n",
       "0         0.0            0.0                False  18990    1  \n",
       "1         0.0            0.0                False  38990    5  \n",
       "2         0.0            0.0                False  13990   10  \n",
       "3         0.0            0.0                False  27590    6  \n",
       "4         0.0            0.0                False  25590    1  "
      ]
     },
     "execution_count": 3,
     "metadata": {},
     "output_type": "execute_result"
    }
   ],
   "source": [
    "df = pd.read_csv('cleaned_data.csv')\n",
    "\n",
    "df.head()"
   ]
  },
  {
   "cell_type": "markdown",
   "metadata": {},
   "source": [
    "## Most popular brands"
   ]
  },
  {
   "cell_type": "code",
   "execution_count": 15,
   "metadata": {},
   "outputs": [
    {
     "data": {
      "image/png": "[encoded data removed]",
      "text/plain": [
       "<Figure size 640x480 with 1 Axes>"
      ]
     },
     "metadata": {},
     "output_type": "display_data"
    }
   ],
   "source": [
    "sns.countplot(df, x='make', order=list(df['make'].value_counts().index))\n",
    "plt.xticks(rotation = 90)\n",
    "plt.show()"
   ]
  },
  {
   "cell_type": "markdown",
   "metadata": {},
   "source": []
  },
  {
   "cell_type": "code",
   "execution_count": 13,
   "metadata": {},
   "outputs": [
    {
     "data": {
      "text/plain": [
       "Index(['Chevrolet', 'Ford', 'Nissan', 'Jeep', 'Toyota', 'Hyundai', 'Kia',\n",
       "       'Tesla', 'Honda', 'GMC', 'BMW', 'Volkswagen', 'Dodge', 'Subaru',\n",
       "       'MAZDA', 'Mercedes-Benz', 'Buick', 'Audi', 'Ram', 'Cadillac', 'Lexus',\n",
       "       'Land Rover', 'Volvo', 'Lincoln', 'Mitsubishi', 'INFINITI', 'Acura',\n",
       "       'Chrysler', 'MINI', 'Porsche', 'Jaguar', 'Genesis', 'Alfa Romeo',\n",
       "       'Rivian', 'FIAT', 'smart', 'Scion', 'Polestar', 'Maserati'],\n",
       "      dtype='object', name='make')"
      ]
     },
     "execution_count": 13,
     "metadata": {},
     "output_type": "execute_result"
    }
   ],
   "source": [
    "df['make'].value_counts().index"
   ]
  },
  {
   "cell_type": "code",
   "execution_count": null,
   "metadata": {},
   "outputs": [],
   "source": []
  }
 ],
 "metadata": {
  "kernelspec": {
   "display_name": "carvana",
   "language": "python",
   "name": "python3"
  },
  "language_info": {
   "codemirror_mode": {
    "name": "ipython",
    "version": 3
   },
   "file_extension": ".py",
   "mimetype": "text/x-python",
   "name": "python",
   "nbconvert_exporter": "python",
   "pygments_lexer": "ipython3",
   "version": "3.11.11"
  }
 },
 "nbformat": 4,
 "nbformat_minor": 2
}
