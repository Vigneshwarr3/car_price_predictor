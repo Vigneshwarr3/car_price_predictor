{
 "cells": [
  {
   "cell_type": "markdown",
   "metadata": {},
   "source": [
    "## Importing necessary libraries"
   ]
  },
  {
   "cell_type": "code",
   "execution_count": 1,
   "metadata": {},
   "outputs": [],
   "source": [
    "from selenium import webdriver\n",
    "from selenium.webdriver.chrome.options import Options\n",
    "from bs4 import BeautifulSoup\n",
    "import json\n",
    "import time\n",
    "\n",
    "\n",
    "from selenium.webdriver.chrome.service import Service\n",
    "from selenium.webdriver.common.by import By\n",
    "from selenium.webdriver.common.keys import Keys\n",
    "from selenium.webdriver.support.ui import WebDriverWait\n",
    "from selenium.webdriver.support import expected_conditions as EC\n",
    "from webdriver_manager.chrome import ChromeDriverManager"
   ]
  },
  {
   "cell_type": "markdown",
   "metadata": {},
   "source": [
    "## Getting individual car links from all pages"
   ]
  },
  {
   "cell_type": "code",
   "execution_count": 2,
   "metadata": {},
   "outputs": [
    {
     "name": "stderr",
     "output_type": "stream",
     "text": [
      "The chromedriver version (134.0.6998.165) detected in PATH at /opt/homebrew/bin/chromedriver might not be compatible with the detected chrome version (135.0.7049.96); currently, chromedriver 135.0.7049.95 is recommended for chrome 135.*, so it is advised to delete the driver in PATH and retry\n"
     ]
    },
    {
     "name": "stdout",
     "output_type": "stream",
     "text": [
      "--- Page 1 ---\n"
     ]
    }
   ],
   "source": [
    " # Set up headless Chrome browser\n",
    "options = Options()\n",
    "#options.add_argument(\"--headless=new\")\n",
    "options.add_argument(\"--disable-blink-features=AutomationControlled\")\n",
    "options.add_argument(\"window-size=1920,1080\")\n",
    "#options.add_argument(\"user-agent=Mozilla/5.0 (Windows NT 10.0; Win64; x64) AppleWebKit/537.36 (KHTML, like Gecko) Chrome/122.0.0.0 Safari/537.36\")\n",
    "\n",
    "driver = webdriver.Chrome(options=options)\n",
    "\n",
    "url = f\"https://www.carvana.com/cars\"\n",
    "wait = WebDriverWait(driver, 10)\n",
    "\n",
    "# Start on a specific page\n",
    "driver.get(url)\n",
    "time.sleep(5)\n",
    "\n",
    "result = []\n",
    "\n",
    "# Loop over pages\n",
    "NUM_PAGES = 1\n",
    "for i in range(NUM_PAGES):\n",
    "    print(f\"--- Page {i+1} ---\")\n",
    "    \n",
    "    #scroll_to_bottom()\n",
    "    \n",
    "    # Optional: you can extract data here before clicking next\n",
    "    soup = BeautifulSoup(driver.page_source, \"html.parser\")\n",
    "\n",
    "    # Parse vehicle links from <script type=\"application/ld+json\">\n",
    "    json_scripts = soup.find_all(\"script\", type=\"application/ld+json\")\n",
    "    car_links = []\n",
    "\n",
    "    for script in json_scripts:\n",
    "        try:\n",
    "            data = json.loads(script.string)\n",
    "            if data.get(\"@type\") == \"Vehicle\":\n",
    "                car_links.append(data.get(\"offers\", {}).get(\"url\", \"\"))\n",
    "        except Exception:\n",
    "            continue\n",
    "    result.extend(car_links)\n",
    "    \n",
    "    try:\n",
    "        next_button = wait.until(EC.element_to_be_clickable((By.CSS_SELECTOR, 'li[data-qa=\"next-page\"]')))\n",
    "        driver.execute_script(\"arguments[0].scrollIntoView({block: 'center'});\", next_button)\n",
    "        time.sleep(1)\n",
    "        #driver.find_element(By.TAG_NAME, \"body\").click()  # unfocus any search box\n",
    "        #time.sleep(1)\n",
    "        driver.execute_script(\"arguments[0].click();\", next_button)\n",
    "        time.sleep(2)\n",
    "    except Exception as e:\n",
    "        print(\"Next button not found or not clickable:\", e)\n",
    "        break\n",
    "\n",
    "driver.quit()\n"
   ]
  },
  {
   "cell_type": "code",
   "execution_count": 6,
   "metadata": {},
   "outputs": [
    {
     "data": {
      "text/plain": [
       "[<script data-qa=\"vehicle-ld\" type=\"application/ld+json\">{\"@context\":\"https://schema.org\",\"@type\":\"Vehicle\",\"itemCondition\":\"Used\",\"name\":\"2023 Dodge Charger\",\"modelDate\":2023,\"manufacturer\":\"Dodge\",\"model\":\"Charger\",\"color\":\"Black\",\"image\":\"https://cdnblob.fastly.carvana.io/2003578509/post-large/normalized/zoomcrop/2003578509-edc-02.jpg?v=2025.4.18_21.37.21\",\"brand\":\"Dodge\",\"description\":\"Used 2023 Dodge Charger SXT with 9918 miles - $30,990\",\"mileageFromOdometer\":9918,\"sku\":2003578509,\"vehicleIdentificationNumber\":\"2C3CDXJG4PH657674\",\"offers\":{\"@type\":\"Offer\",\"price\":30990,\"priceCurrency\":\"USD\",\"availability\":\"http://schema.org/InStock\",\"priceValidUntil\":\"January 1, 2030\",\"url\":\"https://www.carvana.com/vehicle/3548013\"}}</script>,\n",
       " <script data-qa=\"vehicle-ld\" type=\"application/ld+json\">{\"@context\":\"https://schema.org\",\"@type\":\"Vehicle\",\"itemCondition\":\"Used\",\"name\":\"2023 Hyundai IONIQ 6\",\"modelDate\":2023,\"manufacturer\":\"Hyundai\",\"model\":\"IONIQ 6\",\"color\":\"White\",\"image\":\"https://cdnblob.fastly.carvana.io/2003544524/post-large/normalized/zoomcrop/2003544524-edc-02.jpg?v=2025.4.18_21.37.21\",\"brand\":\"Hyundai\",\"description\":\"Used 2023 Hyundai IONIQ 6 SEL with 16960 miles - $29,590\",\"mileageFromOdometer\":16960,\"sku\":2003544524,\"vehicleIdentificationNumber\":\"KMHM34AA0PA031305\",\"offers\":{\"@type\":\"Offer\",\"price\":29590,\"priceCurrency\":\"USD\",\"availability\":\"http://schema.org/InStock\",\"priceValidUntil\":\"January 1, 2030\",\"url\":\"https://www.carvana.com/vehicle/3570684\"}}</script>,\n",
       " <script data-qa=\"vehicle-ld\" type=\"application/ld+json\">{\"@context\":\"https://schema.org\",\"@type\":\"Vehicle\",\"itemCondition\":\"Used\",\"name\":\"2016 Chevrolet Sonic\",\"modelDate\":2016,\"manufacturer\":\"Chevrolet\",\"model\":\"Sonic\",\"color\":\"Gray\",\"image\":\"https://cdnblob.fastly.carvana.io/2003591167/post-large/normalized/zoomcrop/2003591167-edc-02.jpg?v=2025.4.18_21.37.21\",\"brand\":\"Chevrolet\",\"description\":\"Used 2016 Chevrolet Sonic LS with 25301 miles - $13,990\",\"mileageFromOdometer\":25301,\"sku\":2003591167,\"vehicleIdentificationNumber\":\"1G1JA5SH7G4140463\",\"offers\":{\"@type\":\"Offer\",\"price\":13990,\"priceCurrency\":\"USD\",\"availability\":\"http://schema.org/InStock\",\"priceValidUntil\":\"January 1, 2030\",\"url\":\"https://www.carvana.com/vehicle/3558245\"}}</script>,\n",
       " <script data-qa=\"vehicle-ld\" type=\"application/ld+json\">{\"@context\":\"https://schema.org\",\"@type\":\"Vehicle\",\"itemCondition\":\"Used\",\"name\":\"2023 Hyundai Elantra\",\"modelDate\":2023,\"manufacturer\":\"Hyundai\",\"model\":\"Elantra\",\"color\":\"Black\",\"image\":\"https://cdnblob.fastly.carvana.io/2003418085/post-large/normalized/zoomcrop/2003418085-edc-02.jpg?v=2025.4.18_21.37.21\",\"brand\":\"Hyundai\",\"description\":\"Used 2023 Hyundai Elantra SE with 6422 miles - $22,590\",\"mileageFromOdometer\":6422,\"sku\":2003418085,\"vehicleIdentificationNumber\":\"KMHLL4AG0PU591257\",\"offers\":{\"@type\":\"Offer\",\"price\":22590,\"priceCurrency\":\"USD\",\"availability\":\"http://schema.org/InStock\",\"priceValidUntil\":\"January 1, 2030\",\"url\":\"https://www.carvana.com/vehicle/3440473\"}}</script>,\n",
       " <script data-qa=\"vehicle-ld\" type=\"application/ld+json\">{\"@context\":\"https://schema.org\",\"@type\":\"Vehicle\",\"itemCondition\":\"Used\",\"name\":\"2016 BMW i3\",\"modelDate\":2016,\"manufacturer\":\"BMW\",\"model\":\"i3\",\"color\":\"White\",\"image\":\"https://cdnblob.fastly.carvana.io/2003483839/post-large/normalized/zoomcrop/2003483839-edc-02.jpg?v=2025.4.18_21.37.21\",\"brand\":\"BMW\",\"description\":\"Used 2016 BMW i3 Range Extender with 46053 miles - $13,990\",\"mileageFromOdometer\":46053,\"sku\":2003483839,\"vehicleIdentificationNumber\":\"WBY1Z4C5XGV506455\",\"offers\":{\"@type\":\"Offer\",\"price\":13990,\"priceCurrency\":\"USD\",\"availability\":\"http://schema.org/InStock\",\"priceValidUntil\":\"January 1, 2030\",\"url\":\"https://www.carvana.com/vehicle/3479891\"}}</script>,\n",
       " <script data-qa=\"vehicle-ld\" type=\"application/ld+json\">{\"@context\":\"https://schema.org\",\"@type\":\"Vehicle\",\"itemCondition\":\"Used\",\"name\":\"2019 MINI Hardtop 2 Door\",\"modelDate\":2019,\"manufacturer\":\"MINI\",\"model\":\"Hardtop 2 Door\",\"color\":\"Black\",\"image\":\"https://cdnblob.fastly.carvana.io/2003365389/post-large/normalized/zoomcrop/2003365389-edc-02.jpg?v=2025.4.18_21.37.21\",\"brand\":\"MINI\",\"description\":\"Used 2019 MINI Hardtop 2 Door Cooper with 20750 miles - $18,590\",\"mileageFromOdometer\":20750,\"sku\":2003365389,\"vehicleIdentificationNumber\":\"WMWXP5C51K2L04084\",\"offers\":{\"@type\":\"Offer\",\"price\":18590,\"priceCurrency\":\"USD\",\"availability\":\"http://schema.org/InStock\",\"priceValidUntil\":\"January 1, 2030\",\"url\":\"https://www.carvana.com/vehicle/3394325\"}}</script>,\n",
       " <script data-qa=\"vehicle-ld\" type=\"application/ld+json\">{\"@context\":\"https://schema.org\",\"@type\":\"Vehicle\",\"itemCondition\":\"Used\",\"name\":\"2023 Kia K5\",\"modelDate\":2023,\"manufacturer\":\"Kia\",\"model\":\"K5\",\"color\":\"White\",\"image\":\"https://cdnblob.fastly.carvana.io/2003606734/post-large/normalized/zoomcrop/2003606734-edc-02.jpg?v=2025.4.18_21.37.21\",\"brand\":\"Kia\",\"description\":\"Used 2023 Kia K5 GT-Line with 25922 miles - $27,990\",\"mileageFromOdometer\":25922,\"sku\":2003606734,\"vehicleIdentificationNumber\":\"5XXG64J20PG208120\",\"offers\":{\"@type\":\"Offer\",\"price\":27990,\"priceCurrency\":\"USD\",\"availability\":\"http://schema.org/InStock\",\"priceValidUntil\":\"January 1, 2030\",\"url\":\"https://www.carvana.com/vehicle/3573704\"}}</script>,\n",
       " <script data-qa=\"vehicle-ld\" type=\"application/ld+json\">{\"@context\":\"https://schema.org\",\"@type\":\"Vehicle\",\"itemCondition\":\"Used\",\"name\":\"2022 Kia Soul\",\"modelDate\":2022,\"manufacturer\":\"Kia\",\"model\":\"Soul\",\"color\":\"Gray\",\"image\":\"https://cdnblob.fastly.carvana.io/2003510832/post-large/normalized/zoomcrop/2003510832-edc-02.jpg?v=2025.4.18_21.37.21\",\"brand\":\"Kia\",\"description\":\"Used 2022 Kia Soul LX with 23478 miles - $17,990\",\"mileageFromOdometer\":23478,\"sku\":2003510832,\"vehicleIdentificationNumber\":\"KNDJ23AU6N7820471\",\"offers\":{\"@type\":\"Offer\",\"price\":17990,\"priceCurrency\":\"USD\",\"availability\":\"http://schema.org/InStock\",\"priceValidUntil\":\"January 1, 2030\",\"url\":\"https://www.carvana.com/vehicle/3509664\"}}</script>,\n",
       " <script data-qa=\"vehicle-ld\" type=\"application/ld+json\">{\"@context\":\"https://schema.org\",\"@type\":\"Vehicle\",\"itemCondition\":\"Used\",\"name\":\"2018 Volkswagen Golf\",\"modelDate\":2018,\"manufacturer\":\"Volkswagen\",\"model\":\"Golf\",\"color\":\"White\",\"image\":\"https://cdnblob.fastly.carvana.io/2003517598/post-large/normalized/zoomcrop/2003517598-edc-02.jpg?v=2025.4.18_21.37.21\",\"brand\":\"Volkswagen\",\"description\":\"Used 2018 Volkswagen Golf TSI S Hatchback with 26607 miles - $18,590\",\"mileageFromOdometer\":26607,\"sku\":2003517598,\"vehicleIdentificationNumber\":\"3VWG17AU9JM252072\",\"offers\":{\"@type\":\"Offer\",\"price\":18590,\"priceCurrency\":\"USD\",\"availability\":\"http://schema.org/InStock\",\"priceValidUntil\":\"January 1, 2030\",\"url\":\"https://www.carvana.com/vehicle/3506045\"}}</script>,\n",
       " <script data-qa=\"vehicle-ld\" type=\"application/ld+json\">{\"@context\":\"https://schema.org\",\"@type\":\"Vehicle\",\"itemCondition\":\"Used\",\"name\":\"2018 Cadillac CTS\",\"modelDate\":2018,\"manufacturer\":\"Cadillac\",\"model\":\"CTS\",\"color\":\"Red\",\"image\":\"https://cdnblob.fastly.carvana.io/2003608619/post-large/normalized/zoomcrop/2003608619-edc-02.jpg?v=2025.4.18_21.37.21\",\"brand\":\"Cadillac\",\"description\":\"Used 2018 Cadillac CTS 2.0 Luxury with 13755 miles - $25,990\",\"mileageFromOdometer\":13755,\"sku\":2003608619,\"vehicleIdentificationNumber\":\"1G6AX5SX7J0134855\",\"offers\":{\"@type\":\"Offer\",\"price\":25990,\"priceCurrency\":\"USD\",\"availability\":\"http://schema.org/InStock\",\"priceValidUntil\":\"January 1, 2030\",\"url\":\"https://www.carvana.com/vehicle/3572798\"}}</script>,\n",
       " <script data-qa=\"vehicle-ld\" type=\"application/ld+json\">{\"@context\":\"https://schema.org\",\"@type\":\"Vehicle\",\"itemCondition\":\"Used\",\"name\":\"2023 Toyota Corolla\",\"modelDate\":2023,\"manufacturer\":\"Toyota\",\"model\":\"Corolla\",\"color\":\"White\",\"image\":\"https://cdnblob.fastly.carvana.io/2003427081/post-large/normalized/zoomcrop/2003427081-edc-02.jpg?v=2025.4.18_21.37.21\",\"brand\":\"Toyota\",\"description\":\"Used 2023 Toyota Corolla SE with 11112 miles - $24,990\",\"mileageFromOdometer\":11112,\"sku\":2003427081,\"vehicleIdentificationNumber\":\"5YFP4MCE3PP154266\",\"offers\":{\"@type\":\"Offer\",\"price\":24990,\"priceCurrency\":\"USD\",\"availability\":\"http://schema.org/InStock\",\"priceValidUntil\":\"January 1, 2030\",\"url\":\"https://www.carvana.com/vehicle/3443696\"}}</script>,\n",
       " <script data-qa=\"vehicle-ld\" type=\"application/ld+json\">{\"@context\":\"https://schema.org\",\"@type\":\"Vehicle\",\"itemCondition\":\"Used\",\"name\":\"2022 Hyundai Elantra\",\"modelDate\":2022,\"manufacturer\":\"Hyundai\",\"model\":\"Elantra\",\"color\":\"Silver\",\"image\":\"https://cdnblob.fastly.carvana.io/2003636207/post-large/normalized/zoomcrop/2003636207-edc-02.jpg?v=2025.4.18_21.37.21\",\"brand\":\"Hyundai\",\"description\":\"Used 2022 Hyundai Elantra SEL with 15707 miles - $21,590\",\"mileageFromOdometer\":15707,\"sku\":2003636207,\"vehicleIdentificationNumber\":\"5NPLM4AG2NH075023\",\"offers\":{\"@type\":\"Offer\",\"price\":21590,\"priceCurrency\":\"USD\",\"availability\":\"http://schema.org/InStock\",\"priceValidUntil\":\"January 1, 2030\",\"url\":\"https://www.carvana.com/vehicle/3592365\"}}</script>,\n",
       " <script data-qa=\"vehicle-ld\" type=\"application/ld+json\">{\"@context\":\"https://schema.org\",\"@type\":\"Vehicle\",\"itemCondition\":\"Used\",\"name\":\"2023 Dodge Durango\",\"modelDate\":2023,\"manufacturer\":\"Dodge\",\"model\":\"Durango\",\"color\":\"Black\",\"image\":\"https://cdnblob.fastly.carvana.io/2003382904/post-large/normalized/zoomcrop/2003382904-edc-02.jpg?v=2025.4.18_21.37.21\",\"brand\":\"Dodge\",\"description\":\"Used 2023 Dodge Durango SXT with 45259 miles - $24,590\",\"mileageFromOdometer\":45259,\"sku\":2003382904,\"vehicleIdentificationNumber\":\"1C4RDHAG4PC630117\",\"offers\":{\"@type\":\"Offer\",\"price\":24590,\"priceCurrency\":\"USD\",\"availability\":\"http://schema.org/InStock\",\"priceValidUntil\":\"January 1, 2030\",\"url\":\"https://www.carvana.com/vehicle/3413414\"}}</script>,\n",
       " <script data-qa=\"vehicle-ld\" type=\"application/ld+json\">{\"@context\":\"https://schema.org\",\"@type\":\"Vehicle\",\"itemCondition\":\"Used\",\"name\":\"2020 Ford EcoSport\",\"modelDate\":2020,\"manufacturer\":\"Ford\",\"model\":\"EcoSport\",\"color\":\"Blue\",\"image\":\"https://cdnblob.fastly.carvana.io/2003663045/post-large/normalized/zoomcrop/2003663045-edc-02.jpg?v=2025.4.18_21.37.21\",\"brand\":\"Ford\",\"description\":\"Used 2020 Ford EcoSport S with 43135 miles - $16,990\",\"mileageFromOdometer\":43135,\"sku\":2003663045,\"vehicleIdentificationNumber\":\"MAJ3S2FE3LC363276\",\"offers\":{\"@type\":\"Offer\",\"price\":16990,\"priceCurrency\":\"USD\",\"availability\":\"http://schema.org/InStock\",\"priceValidUntil\":\"January 1, 2030\",\"url\":\"https://www.carvana.com/vehicle/3599694\"}}</script>,\n",
       " <script data-qa=\"vehicle-ld\" type=\"application/ld+json\">{\"@context\":\"https://schema.org\",\"@type\":\"Vehicle\",\"itemCondition\":\"Used\",\"name\":\"2024 Ford Bronco Sport\",\"modelDate\":2024,\"manufacturer\":\"Ford\",\"model\":\"Bronco Sport\",\"color\":\"Gray\",\"image\":\"https://cdnblob.fastly.carvana.io/2003626575/post-large/normalized/zoomcrop/2003626575-edc-02.jpg?v=2025.4.18_21.37.21\",\"brand\":\"Ford\",\"description\":\"Used 2024 Ford Bronco Sport Heritage with 5184 miles - $33,990\",\"mileageFromOdometer\":5184,\"sku\":2003626575,\"vehicleIdentificationNumber\":\"3FMCR9G6XRRE33769\",\"offers\":{\"@type\":\"Offer\",\"price\":33990,\"priceCurrency\":\"USD\",\"availability\":\"http://schema.org/InStock\",\"priceValidUntil\":\"January 1, 2030\",\"url\":\"https://www.carvana.com/vehicle/3582381\"}}</script>,\n",
       " <script data-qa=\"vehicle-ld\" type=\"application/ld+json\">{\"@context\":\"https://schema.org\",\"@type\":\"Vehicle\",\"itemCondition\":\"Used\",\"name\":\"2024 Chevrolet Trax\",\"modelDate\":2024,\"manufacturer\":\"Chevrolet\",\"model\":\"Trax\",\"color\":\"Red\",\"image\":\"https://cdnblob.fastly.carvana.io/2003673107/post-large/normalized/zoomcrop/2003673107-edc-02.jpg?v=2025.4.18_21.37.21\",\"brand\":\"Chevrolet\",\"description\":\"Used 2024 Chevrolet Trax 1RS with 5362 miles - $24,990\",\"mileageFromOdometer\":5362,\"sku\":2003673107,\"vehicleIdentificationNumber\":\"KL77LGE23RC057665\",\"offers\":{\"@type\":\"Offer\",\"price\":24990,\"priceCurrency\":\"USD\",\"availability\":\"http://schema.org/InStock\",\"priceValidUntil\":\"January 1, 2030\",\"url\":\"https://www.carvana.com/vehicle/3608824\"}}</script>,\n",
       " <script data-qa=\"vehicle-ld\" type=\"application/ld+json\">{\"@context\":\"https://schema.org\",\"@type\":\"Vehicle\",\"itemCondition\":\"Used\",\"name\":\"2023 Toyota Corolla\",\"modelDate\":2023,\"manufacturer\":\"Toyota\",\"model\":\"Corolla\",\"color\":\"Silver\",\"image\":\"https://cdnblob.fastly.carvana.io/2003457211/post-large/normalized/zoomcrop/2003457211-edc-02.jpg?v=2025.4.18_21.37.21\",\"brand\":\"Toyota\",\"description\":\"Used 2023 Toyota Corolla SE with 24131 miles - $23,590\",\"mileageFromOdometer\":24131,\"sku\":2003457211,\"vehicleIdentificationNumber\":\"5YFS4MCEXPP164920\",\"offers\":{\"@type\":\"Offer\",\"price\":23590,\"priceCurrency\":\"USD\",\"availability\":\"http://schema.org/InStock\",\"priceValidUntil\":\"January 1, 2030\",\"url\":\"https://www.carvana.com/vehicle/3470675\"}}</script>,\n",
       " <script data-qa=\"vehicle-ld\" type=\"application/ld+json\">{\"@context\":\"https://schema.org\",\"@type\":\"Vehicle\",\"itemCondition\":\"Used\",\"name\":\"2018 Chevrolet Trax\",\"modelDate\":2018,\"manufacturer\":\"Chevrolet\",\"model\":\"Trax\",\"color\":\"Other\",\"image\":\"https://cdnblob.fastly.carvana.io/2003620671/post-large/normalized/zoomcrop/2003620671-edc-02.jpg?v=2025.4.18_21.37.21\",\"brand\":\"Chevrolet\",\"description\":\"Used 2018 Chevrolet Trax LT with 10530 miles - $18,990\",\"mileageFromOdometer\":10530,\"sku\":2003620671,\"vehicleIdentificationNumber\":\"3GNCJLSB0JL311899\",\"offers\":{\"@type\":\"Offer\",\"price\":18990,\"priceCurrency\":\"USD\",\"availability\":\"http://schema.org/InStock\",\"priceValidUntil\":\"January 1, 2030\",\"url\":\"https://www.carvana.com/vehicle/3576634\"}}</script>,\n",
       " <script data-qa=\"vehicle-ld\" type=\"application/ld+json\">{\"@context\":\"https://schema.org\",\"@type\":\"Vehicle\",\"itemCondition\":\"Used\",\"name\":\"2022 Cadillac XT4\",\"modelDate\":2022,\"manufacturer\":\"Cadillac\",\"model\":\"XT4\",\"color\":\"Red\",\"image\":\"https://cdnblob.fastly.carvana.io/2003586067/post-large/normalized/zoomcrop/2003586067-edc-02.jpg?v=2025.4.18_21.37.21\",\"brand\":\"Cadillac\",\"description\":\"Used 2022 Cadillac XT4 Luxury with 25872 miles - $28,990\",\"mileageFromOdometer\":25872,\"sku\":2003586067,\"vehicleIdentificationNumber\":\"1GYFZBR43NF117880\",\"offers\":{\"@type\":\"Offer\",\"price\":28990,\"priceCurrency\":\"USD\",\"availability\":\"http://schema.org/InStock\",\"priceValidUntil\":\"January 1, 2030\",\"url\":\"https://www.carvana.com/vehicle/3551804\"}}</script>,\n",
       " <script data-qa=\"vehicle-ld\" type=\"application/ld+json\">{\"@context\":\"https://schema.org\",\"@type\":\"Vehicle\",\"itemCondition\":\"Used\",\"name\":\"2023 Hyundai Elantra\",\"modelDate\":2023,\"manufacturer\":\"Hyundai\",\"model\":\"Elantra\",\"color\":\"Blue\",\"image\":\"https://cdnblob.fastly.carvana.io/2003595988/post-large/normalized/zoomcrop/2003595988-edc-02.jpg?v=2025.4.18_21.37.21\",\"brand\":\"Hyundai\",\"description\":\"Used 2023 Hyundai Elantra SEL with 15166 miles - $22,990\",\"mileageFromOdometer\":15166,\"sku\":2003595988,\"vehicleIdentificationNumber\":\"KMHLS4AG8PU600628\",\"offers\":{\"@type\":\"Offer\",\"price\":22990,\"priceCurrency\":\"USD\",\"availability\":\"http://schema.org/InStock\",\"priceValidUntil\":\"January 1, 2030\",\"url\":\"https://www.carvana.com/vehicle/3566955\"}}</script>,\n",
       " <script data-qa=\"vehicle-ld\" type=\"application/ld+json\">{\"@context\":\"https://schema.org\",\"@type\":\"Vehicle\",\"itemCondition\":\"Used\",\"name\":\"2016 Buick Encore\",\"modelDate\":2016,\"manufacturer\":\"Buick\",\"model\":\"Encore\",\"color\":\"Gray\",\"image\":\"https://cdnblob.fastly.carvana.io/2003581304/post-large/normalized/zoomcrop/2003581304-edc-02.jpg?v=2025.4.18_21.37.21\",\"brand\":\"Buick\",\"description\":\"Used 2016 Buick Encore base with 23383 miles - $16,590\",\"mileageFromOdometer\":23383,\"sku\":2003581304,\"vehicleIdentificationNumber\":\"KL4CJASBXGB516082\",\"offers\":{\"@type\":\"Offer\",\"price\":16590,\"priceCurrency\":\"USD\",\"availability\":\"http://schema.org/InStock\",\"priceValidUntil\":\"January 1, 2030\",\"url\":\"https://www.carvana.com/vehicle/3544092\"}}</script>]"
      ]
     },
     "execution_count": 6,
     "metadata": {},
     "output_type": "execute_result"
    }
   ],
   "source": [
    "soup.find_all(\"script\", type=\"application/ld+json\")"
   ]
  },
  {
   "cell_type": "markdown",
   "metadata": {},
   "source": [
    "## Scraping individual car data"
   ]
  },
  {
   "cell_type": "code",
   "execution_count": 7,
   "metadata": {},
   "outputs": [],
   "source": [
    "import random \n",
    "import pandas as pd\n",
    "from tqdm import tqdm"
   ]
  },
  {
   "cell_type": "code",
   "execution_count": 8,
   "metadata": {},
   "outputs": [],
   "source": [
    "with open(\"columns.txt\", \"r\") as file:\n",
    "    existing_cols = [line.strip() for line in file if line.strip()]"
   ]
  },
  {
   "cell_type": "code",
   "execution_count": 9,
   "metadata": {},
   "outputs": [
    {
     "name": "stdout",
     "output_type": "stream",
     "text": [
      "Unique urls : 19396\n",
      "Scraped urls : 19397\n"
     ]
    }
   ],
   "source": [
    "# Read URLs from txt file into a list\n",
    "with open(\"unique_urls.txt\", \"r\") as file:\n",
    "    unique_urls = [line.strip() for line in file if line.strip()]\n",
    "\n",
    "# Print the list\n",
    "print(f'Unique urls : {len(unique_urls)}')\n",
    "\n",
    "prev_result = pd.read_csv('car_data.csv', low_memory=False)\n",
    "scraped_urls = list(prev_result[~prev_result['bodyType'].isna()]['url'])\n",
    "\n",
    "print(f'Scraped urls : {len(scraped_urls)}')"
   ]
  },
  {
   "cell_type": "code",
   "execution_count": null,
   "metadata": {},
   "outputs": [
    {
     "name": "stderr",
     "output_type": "stream",
     "text": [
      "Scraping car details: 100%|██████████| 19396/19396 [5:53:59<00:00,  1.10s/it]  \n"
     ]
    }
   ],
   "source": [
    "# Set up headless Chrome browser\n",
    "auto_check = \"https://apik.carvana.io/merch/vdp/api/autocheck/v1/get?vehicleId=\"\n",
    "failed_url = []\n",
    "\n",
    "\n",
    "for i, car_url in tqdm(enumerate(unique_urls), total=len(unique_urls), desc=\"Scraping car details\"):\n",
    "#for car_url in unique_urls:\n",
    "    try: \n",
    "        if car_url not in scraped_urls:\n",
    "            options = Options()\n",
    "            #options.add_argument(\"--headless=new\")\n",
    "            options.add_argument(\"--disable-blink-features=AutomationControlled\")\n",
    "            options.add_argument(\"window-size=1920,1080\")\n",
    "            #options.add_argument(\"user-agent=Mozilla/5.0 (Windows NT 10.0; Win64; x64) AppleWebKit/537.36 (KHTML, like Gecko) Chrome/122.0.0.0 Safari/537.36\")\n",
    "\n",
    "            driver = webdriver.Chrome(service=Service(ChromeDriverManager().install()), options=options)\n",
    "\n",
    "            driver.get(car_url)\n",
    "            time.sleep(3)\n",
    "            car_soup = BeautifulSoup(driver.page_source, \"html.parser\")\n",
    "\n",
    "            auto_check_url = auto_check + car_url[-7:]\n",
    "            driver.get(auto_check_url)\n",
    "            time.sleep(3)\n",
    "            auto_check_soup = BeautifulSoup(driver.page_source, \"html.parser\")\n",
    "\n",
    "            driver.quit()\n",
    "\n",
    "            image_tags = car_soup.find_all(\"img\", {\"data-qa\": \"carousel-item\"})\n",
    "            image_urls = [img['src'] for img in image_tags if 'src' in img.attrs]\n",
    "\n",
    "            json_scripts = car_soup.find_all(\"script\", type=\"application/json\")\n",
    "            for script in json_scripts:\n",
    "                try:\n",
    "                    json_data = json.loads(script.string)\n",
    "                    vehicle_details = json_data.get(\"props\", {}).get(\"pageProps\", {}).get(\"forProviders\", {}).get(\"forVehicleContext\", {}).get(\"vehicleDetails\", {})\n",
    "                    vehicle_details['url'] = car_url\n",
    "                    try:\n",
    "                        owner = auto_check_soup.find(\"span\", class_=\"box-title-owners\").find(\"span\").text\n",
    "                    except AttributeError:\n",
    "                        owner = \"1\"\n",
    "                    vehicle_details['owners'] = owner\n",
    "\n",
    "                    #vehicle_details['status'] = car_response.status_code\n",
    "                    df = pd.DataFrame([vehicle_details])\n",
    "                    #car_data = pd.concat([car_data, df], ignore_index=True)\n",
    "                    df = df.reindex(columns=existing_cols, fill_value=\"\")\n",
    "                    #df.to_csv(\"car_data.csv\", index=False, mode='a', header=False) # appends data to my existing file\n",
    "                    with open('car_data.csv', mode='a', newline='', encoding='utf-8') as f:\n",
    "                        df.to_csv(f, index=False, header=False)\n",
    "                        f.flush()\n",
    "\n",
    "                    #### scraping the image urls ####\n",
    "                    image_df = pd.DataFrame([{'make': df.loc[0,'make'], 'model': df.loc[0,'model'], 'image_url': url} for url in image_urls])\n",
    "                    with open('images.csv', mode='a', newline='', encoding='utf-8') as f:\n",
    "                        image_df.to_csv(f, index=False, header=False)\n",
    "                        f.flush()\n",
    "                    \n",
    "                except json.JSONDecodeError:\n",
    "                    continue\n",
    "                \n",
    "                time.sleep(random.uniform(1, 3))\n",
    "                \n",
    "    except Exception as e:\n",
    "        failed_url.append(car_url)"
   ]
  },
  {
   "cell_type": "code",
   "execution_count": null,
   "metadata": {},
   "outputs": [],
   "source": [
    "# new testing"
   ]
  },
  {
   "cell_type": "code",
   "execution_count": 10,
   "metadata": {},
   "outputs": [],
   "source": [
    "urls_tobe_scraped = ['https://www.carvana.com/vehicle/3474709', 'https://www.carvana.com/vehicle/3557345', 'https://www.carvana.com/vehicle/3456879']"
   ]
  },
  {
   "cell_type": "code",
   "execution_count": 37,
   "metadata": {},
   "outputs": [
    {
     "name": "stderr",
     "output_type": "stream",
     "text": [
      "Scraping car details:   0%|          | 0/3 [00:00<?, ?it/s]"
     ]
    },
    {
     "name": "stderr",
     "output_type": "stream",
     "text": [
      "Scraping car details:  67%|██████▋   | 2/3 [00:31<00:15, 15.54s/it]\n"
     ]
    },
    {
     "ename": "KeyboardInterrupt",
     "evalue": "",
     "output_type": "error",
     "traceback": [
      "\u001b[31m---------------------------------------------------------------------------\u001b[39m",
      "\u001b[31mKeyboardInterrupt\u001b[39m                         Traceback (most recent call last)",
      "\u001b[36mCell\u001b[39m\u001b[36m \u001b[39m\u001b[32mIn[37]\u001b[39m\u001b[32m, line 29\u001b[39m\n\u001b[32m     26\u001b[39m car_soup = BeautifulSoup(driver.page_source, \u001b[33m\"\u001b[39m\u001b[33mhtml.parser\u001b[39m\u001b[33m\"\u001b[39m)\n\u001b[32m     28\u001b[39m auto_check_url = auto_check + car_url[-\u001b[32m7\u001b[39m:]\n\u001b[32m---> \u001b[39m\u001b[32m29\u001b[39m \u001b[43mdriver\u001b[49m\u001b[43m.\u001b[49m\u001b[43mget\u001b[49m\u001b[43m(\u001b[49m\u001b[43mauto_check_url\u001b[49m\u001b[43m)\u001b[49m\n\u001b[32m     30\u001b[39m time.sleep(\u001b[32m3\u001b[39m)\n\u001b[32m     31\u001b[39m auto_check_soup = BeautifulSoup(driver.page_source, \u001b[33m\"\u001b[39m\u001b[33mhtml.parser\u001b[39m\u001b[33m\"\u001b[39m)\n",
      "\u001b[36mFile \u001b[39m\u001b[32m/opt/miniconda3/envs/carvana/lib/python3.11/site-packages/selenium/webdriver/remote/webdriver.py:454\u001b[39m, in \u001b[36mWebDriver.get\u001b[39m\u001b[34m(self, url)\u001b[39m\n\u001b[32m    436\u001b[39m \u001b[38;5;28;01mdef\u001b[39;00m\u001b[38;5;250m \u001b[39m\u001b[34mget\u001b[39m(\u001b[38;5;28mself\u001b[39m, url: \u001b[38;5;28mstr\u001b[39m) -> \u001b[38;5;28;01mNone\u001b[39;00m:\n\u001b[32m    437\u001b[39m \u001b[38;5;250m    \u001b[39m\u001b[33;03m\"\"\"Navigate the browser to the specified URL in the current window or\u001b[39;00m\n\u001b[32m    438\u001b[39m \u001b[33;03m    tab.\u001b[39;00m\n\u001b[32m    439\u001b[39m \n\u001b[32m   (...)\u001b[39m\u001b[32m    452\u001b[39m \u001b[33;03m    >>> driver.get(\"https://example.com\")\u001b[39;00m\n\u001b[32m    453\u001b[39m \u001b[33;03m    \"\"\"\u001b[39;00m\n\u001b[32m--> \u001b[39m\u001b[32m454\u001b[39m     \u001b[38;5;28;43mself\u001b[39;49m\u001b[43m.\u001b[49m\u001b[43mexecute\u001b[49m\u001b[43m(\u001b[49m\u001b[43mCommand\u001b[49m\u001b[43m.\u001b[49m\u001b[43mGET\u001b[49m\u001b[43m,\u001b[49m\u001b[43m \u001b[49m\u001b[43m{\u001b[49m\u001b[33;43m\"\u001b[39;49m\u001b[33;43murl\u001b[39;49m\u001b[33;43m\"\u001b[39;49m\u001b[43m:\u001b[49m\u001b[43m \u001b[49m\u001b[43murl\u001b[49m\u001b[43m}\u001b[49m\u001b[43m)\u001b[49m\n",
      "\u001b[36mFile \u001b[39m\u001b[32m/opt/miniconda3/envs/carvana/lib/python3.11/site-packages/selenium/webdriver/remote/webdriver.py:427\u001b[39m, in \u001b[36mWebDriver.execute\u001b[39m\u001b[34m(self, driver_command, params)\u001b[39m\n\u001b[32m    424\u001b[39m     \u001b[38;5;28;01melif\u001b[39;00m \u001b[33m\"\u001b[39m\u001b[33msessionId\u001b[39m\u001b[33m\"\u001b[39m \u001b[38;5;129;01mnot\u001b[39;00m \u001b[38;5;129;01min\u001b[39;00m params:\n\u001b[32m    425\u001b[39m         params[\u001b[33m\"\u001b[39m\u001b[33msessionId\u001b[39m\u001b[33m\"\u001b[39m] = \u001b[38;5;28mself\u001b[39m.session_id\n\u001b[32m--> \u001b[39m\u001b[32m427\u001b[39m response = \u001b[38;5;28;43mself\u001b[39;49m\u001b[43m.\u001b[49m\u001b[43mcommand_executor\u001b[49m\u001b[43m.\u001b[49m\u001b[43mexecute\u001b[49m\u001b[43m(\u001b[49m\u001b[43mdriver_command\u001b[49m\u001b[43m,\u001b[49m\u001b[43m \u001b[49m\u001b[43mparams\u001b[49m\u001b[43m)\u001b[49m\n\u001b[32m    428\u001b[39m \u001b[38;5;28;01mif\u001b[39;00m response:\n\u001b[32m    429\u001b[39m     \u001b[38;5;28mself\u001b[39m.error_handler.check_response(response)\n",
      "\u001b[36mFile \u001b[39m\u001b[32m/opt/miniconda3/envs/carvana/lib/python3.11/site-packages/selenium/webdriver/remote/remote_connection.py:404\u001b[39m, in \u001b[36mRemoteConnection.execute\u001b[39m\u001b[34m(self, command, params)\u001b[39m\n\u001b[32m    402\u001b[39m trimmed = \u001b[38;5;28mself\u001b[39m._trim_large_entries(params)\n\u001b[32m    403\u001b[39m LOGGER.debug(\u001b[33m\"\u001b[39m\u001b[38;5;132;01m%s\u001b[39;00m\u001b[33m \u001b[39m\u001b[38;5;132;01m%s\u001b[39;00m\u001b[33m \u001b[39m\u001b[38;5;132;01m%s\u001b[39;00m\u001b[33m\"\u001b[39m, command_info[\u001b[32m0\u001b[39m], url, \u001b[38;5;28mstr\u001b[39m(trimmed))\n\u001b[32m--> \u001b[39m\u001b[32m404\u001b[39m \u001b[38;5;28;01mreturn\u001b[39;00m \u001b[38;5;28;43mself\u001b[39;49m\u001b[43m.\u001b[49m\u001b[43m_request\u001b[49m\u001b[43m(\u001b[49m\u001b[43mcommand_info\u001b[49m\u001b[43m[\u001b[49m\u001b[32;43m0\u001b[39;49m\u001b[43m]\u001b[49m\u001b[43m,\u001b[49m\u001b[43m \u001b[49m\u001b[43murl\u001b[49m\u001b[43m,\u001b[49m\u001b[43m \u001b[49m\u001b[43mbody\u001b[49m\u001b[43m=\u001b[49m\u001b[43mdata\u001b[49m\u001b[43m)\u001b[49m\n",
      "\u001b[36mFile \u001b[39m\u001b[32m/opt/miniconda3/envs/carvana/lib/python3.11/site-packages/selenium/webdriver/remote/remote_connection.py:428\u001b[39m, in \u001b[36mRemoteConnection._request\u001b[39m\u001b[34m(self, method, url, body)\u001b[39m\n\u001b[32m    425\u001b[39m     body = \u001b[38;5;28;01mNone\u001b[39;00m\n\u001b[32m    427\u001b[39m \u001b[38;5;28;01mif\u001b[39;00m \u001b[38;5;28mself\u001b[39m._client_config.keep_alive:\n\u001b[32m--> \u001b[39m\u001b[32m428\u001b[39m     response = \u001b[38;5;28;43mself\u001b[39;49m\u001b[43m.\u001b[49m\u001b[43m_conn\u001b[49m\u001b[43m.\u001b[49m\u001b[43mrequest\u001b[49m\u001b[43m(\u001b[49m\u001b[43mmethod\u001b[49m\u001b[43m,\u001b[49m\u001b[43m \u001b[49m\u001b[43murl\u001b[49m\u001b[43m,\u001b[49m\u001b[43m \u001b[49m\u001b[43mbody\u001b[49m\u001b[43m=\u001b[49m\u001b[43mbody\u001b[49m\u001b[43m,\u001b[49m\u001b[43m \u001b[49m\u001b[43mheaders\u001b[49m\u001b[43m=\u001b[49m\u001b[43mheaders\u001b[49m\u001b[43m,\u001b[49m\u001b[43m \u001b[49m\u001b[43mtimeout\u001b[49m\u001b[43m=\u001b[49m\u001b[38;5;28;43mself\u001b[39;49m\u001b[43m.\u001b[49m\u001b[43m_client_config\u001b[49m\u001b[43m.\u001b[49m\u001b[43mtimeout\u001b[49m\u001b[43m)\u001b[49m\n\u001b[32m    429\u001b[39m     statuscode = response.status\n\u001b[32m    430\u001b[39m \u001b[38;5;28;01melse\u001b[39;00m:\n",
      "\u001b[36mFile \u001b[39m\u001b[32m/opt/miniconda3/envs/carvana/lib/python3.11/site-packages/urllib3/_request_methods.py:143\u001b[39m, in \u001b[36mRequestMethods.request\u001b[39m\u001b[34m(self, method, url, body, fields, headers, json, **urlopen_kw)\u001b[39m\n\u001b[32m    135\u001b[39m     \u001b[38;5;28;01mreturn\u001b[39;00m \u001b[38;5;28mself\u001b[39m.request_encode_url(\n\u001b[32m    136\u001b[39m         method,\n\u001b[32m    137\u001b[39m         url,\n\u001b[32m   (...)\u001b[39m\u001b[32m    140\u001b[39m         **urlopen_kw,\n\u001b[32m    141\u001b[39m     )\n\u001b[32m    142\u001b[39m \u001b[38;5;28;01melse\u001b[39;00m:\n\u001b[32m--> \u001b[39m\u001b[32m143\u001b[39m     \u001b[38;5;28;01mreturn\u001b[39;00m \u001b[38;5;28;43mself\u001b[39;49m\u001b[43m.\u001b[49m\u001b[43mrequest_encode_body\u001b[49m\u001b[43m(\u001b[49m\n\u001b[32m    144\u001b[39m \u001b[43m        \u001b[49m\u001b[43mmethod\u001b[49m\u001b[43m,\u001b[49m\u001b[43m \u001b[49m\u001b[43murl\u001b[49m\u001b[43m,\u001b[49m\u001b[43m \u001b[49m\u001b[43mfields\u001b[49m\u001b[43m=\u001b[49m\u001b[43mfields\u001b[49m\u001b[43m,\u001b[49m\u001b[43m \u001b[49m\u001b[43mheaders\u001b[49m\u001b[43m=\u001b[49m\u001b[43mheaders\u001b[49m\u001b[43m,\u001b[49m\u001b[43m \u001b[49m\u001b[43m*\u001b[49m\u001b[43m*\u001b[49m\u001b[43murlopen_kw\u001b[49m\n\u001b[32m    145\u001b[39m \u001b[43m    \u001b[49m\u001b[43m)\u001b[49m\n",
      "\u001b[36mFile \u001b[39m\u001b[32m/opt/miniconda3/envs/carvana/lib/python3.11/site-packages/urllib3/_request_methods.py:278\u001b[39m, in \u001b[36mRequestMethods.request_encode_body\u001b[39m\u001b[34m(self, method, url, fields, headers, encode_multipart, multipart_boundary, **urlopen_kw)\u001b[39m\n\u001b[32m    274\u001b[39m     extra_kw[\u001b[33m\"\u001b[39m\u001b[33mheaders\u001b[39m\u001b[33m\"\u001b[39m].setdefault(\u001b[33m\"\u001b[39m\u001b[33mContent-Type\u001b[39m\u001b[33m\"\u001b[39m, content_type)\n\u001b[32m    276\u001b[39m extra_kw.update(urlopen_kw)\n\u001b[32m--> \u001b[39m\u001b[32m278\u001b[39m \u001b[38;5;28;01mreturn\u001b[39;00m \u001b[38;5;28;43mself\u001b[39;49m\u001b[43m.\u001b[49m\u001b[43murlopen\u001b[49m\u001b[43m(\u001b[49m\u001b[43mmethod\u001b[49m\u001b[43m,\u001b[49m\u001b[43m \u001b[49m\u001b[43murl\u001b[49m\u001b[43m,\u001b[49m\u001b[43m \u001b[49m\u001b[43m*\u001b[49m\u001b[43m*\u001b[49m\u001b[43mextra_kw\u001b[49m\u001b[43m)\u001b[49m\n",
      "\u001b[36mFile \u001b[39m\u001b[32m/opt/miniconda3/envs/carvana/lib/python3.11/site-packages/urllib3/poolmanager.py:443\u001b[39m, in \u001b[36mPoolManager.urlopen\u001b[39m\u001b[34m(self, method, url, redirect, **kw)\u001b[39m\n\u001b[32m    441\u001b[39m     response = conn.urlopen(method, url, **kw)\n\u001b[32m    442\u001b[39m \u001b[38;5;28;01melse\u001b[39;00m:\n\u001b[32m--> \u001b[39m\u001b[32m443\u001b[39m     response = \u001b[43mconn\u001b[49m\u001b[43m.\u001b[49m\u001b[43murlopen\u001b[49m\u001b[43m(\u001b[49m\u001b[43mmethod\u001b[49m\u001b[43m,\u001b[49m\u001b[43m \u001b[49m\u001b[43mu\u001b[49m\u001b[43m.\u001b[49m\u001b[43mrequest_uri\u001b[49m\u001b[43m,\u001b[49m\u001b[43m \u001b[49m\u001b[43m*\u001b[49m\u001b[43m*\u001b[49m\u001b[43mkw\u001b[49m\u001b[43m)\u001b[49m\n\u001b[32m    445\u001b[39m redirect_location = redirect \u001b[38;5;129;01mand\u001b[39;00m response.get_redirect_location()\n\u001b[32m    446\u001b[39m \u001b[38;5;28;01mif\u001b[39;00m \u001b[38;5;129;01mnot\u001b[39;00m redirect_location:\n",
      "\u001b[36mFile \u001b[39m\u001b[32m/opt/miniconda3/envs/carvana/lib/python3.11/site-packages/urllib3/connectionpool.py:787\u001b[39m, in \u001b[36mHTTPConnectionPool.urlopen\u001b[39m\u001b[34m(self, method, url, body, headers, retries, redirect, assert_same_host, timeout, pool_timeout, release_conn, chunked, body_pos, preload_content, decode_content, **response_kw)\u001b[39m\n\u001b[32m    784\u001b[39m response_conn = conn \u001b[38;5;28;01mif\u001b[39;00m \u001b[38;5;129;01mnot\u001b[39;00m release_conn \u001b[38;5;28;01melse\u001b[39;00m \u001b[38;5;28;01mNone\u001b[39;00m\n\u001b[32m    786\u001b[39m \u001b[38;5;66;03m# Make the request on the HTTPConnection object\u001b[39;00m\n\u001b[32m--> \u001b[39m\u001b[32m787\u001b[39m response = \u001b[38;5;28;43mself\u001b[39;49m\u001b[43m.\u001b[49m\u001b[43m_make_request\u001b[49m\u001b[43m(\u001b[49m\n\u001b[32m    788\u001b[39m \u001b[43m    \u001b[49m\u001b[43mconn\u001b[49m\u001b[43m,\u001b[49m\n\u001b[32m    789\u001b[39m \u001b[43m    \u001b[49m\u001b[43mmethod\u001b[49m\u001b[43m,\u001b[49m\n\u001b[32m    790\u001b[39m \u001b[43m    \u001b[49m\u001b[43murl\u001b[49m\u001b[43m,\u001b[49m\n\u001b[32m    791\u001b[39m \u001b[43m    \u001b[49m\u001b[43mtimeout\u001b[49m\u001b[43m=\u001b[49m\u001b[43mtimeout_obj\u001b[49m\u001b[43m,\u001b[49m\n\u001b[32m    792\u001b[39m \u001b[43m    \u001b[49m\u001b[43mbody\u001b[49m\u001b[43m=\u001b[49m\u001b[43mbody\u001b[49m\u001b[43m,\u001b[49m\n\u001b[32m    793\u001b[39m \u001b[43m    \u001b[49m\u001b[43mheaders\u001b[49m\u001b[43m=\u001b[49m\u001b[43mheaders\u001b[49m\u001b[43m,\u001b[49m\n\u001b[32m    794\u001b[39m \u001b[43m    \u001b[49m\u001b[43mchunked\u001b[49m\u001b[43m=\u001b[49m\u001b[43mchunked\u001b[49m\u001b[43m,\u001b[49m\n\u001b[32m    795\u001b[39m \u001b[43m    \u001b[49m\u001b[43mretries\u001b[49m\u001b[43m=\u001b[49m\u001b[43mretries\u001b[49m\u001b[43m,\u001b[49m\n\u001b[32m    796\u001b[39m \u001b[43m    \u001b[49m\u001b[43mresponse_conn\u001b[49m\u001b[43m=\u001b[49m\u001b[43mresponse_conn\u001b[49m\u001b[43m,\u001b[49m\n\u001b[32m    797\u001b[39m \u001b[43m    \u001b[49m\u001b[43mpreload_content\u001b[49m\u001b[43m=\u001b[49m\u001b[43mpreload_content\u001b[49m\u001b[43m,\u001b[49m\n\u001b[32m    798\u001b[39m \u001b[43m    \u001b[49m\u001b[43mdecode_content\u001b[49m\u001b[43m=\u001b[49m\u001b[43mdecode_content\u001b[49m\u001b[43m,\u001b[49m\n\u001b[32m    799\u001b[39m \u001b[43m    \u001b[49m\u001b[43m*\u001b[49m\u001b[43m*\u001b[49m\u001b[43mresponse_kw\u001b[49m\u001b[43m,\u001b[49m\n\u001b[32m    800\u001b[39m \u001b[43m\u001b[49m\u001b[43m)\u001b[49m\n\u001b[32m    802\u001b[39m \u001b[38;5;66;03m# Everything went great!\u001b[39;00m\n\u001b[32m    803\u001b[39m clean_exit = \u001b[38;5;28;01mTrue\u001b[39;00m\n",
      "\u001b[36mFile \u001b[39m\u001b[32m/opt/miniconda3/envs/carvana/lib/python3.11/site-packages/urllib3/connectionpool.py:534\u001b[39m, in \u001b[36mHTTPConnectionPool._make_request\u001b[39m\u001b[34m(self, conn, method, url, body, headers, retries, timeout, chunked, response_conn, preload_content, decode_content, enforce_content_length)\u001b[39m\n\u001b[32m    532\u001b[39m \u001b[38;5;66;03m# Receive the response from the server\u001b[39;00m\n\u001b[32m    533\u001b[39m \u001b[38;5;28;01mtry\u001b[39;00m:\n\u001b[32m--> \u001b[39m\u001b[32m534\u001b[39m     response = \u001b[43mconn\u001b[49m\u001b[43m.\u001b[49m\u001b[43mgetresponse\u001b[49m\u001b[43m(\u001b[49m\u001b[43m)\u001b[49m\n\u001b[32m    535\u001b[39m \u001b[38;5;28;01mexcept\u001b[39;00m (BaseSSLError, \u001b[38;5;167;01mOSError\u001b[39;00m) \u001b[38;5;28;01mas\u001b[39;00m e:\n\u001b[32m    536\u001b[39m     \u001b[38;5;28mself\u001b[39m._raise_timeout(err=e, url=url, timeout_value=read_timeout)\n",
      "\u001b[36mFile \u001b[39m\u001b[32m/opt/miniconda3/envs/carvana/lib/python3.11/site-packages/urllib3/connection.py:516\u001b[39m, in \u001b[36mHTTPConnection.getresponse\u001b[39m\u001b[34m(self)\u001b[39m\n\u001b[32m    513\u001b[39m _shutdown = \u001b[38;5;28mgetattr\u001b[39m(\u001b[38;5;28mself\u001b[39m.sock, \u001b[33m\"\u001b[39m\u001b[33mshutdown\u001b[39m\u001b[33m\"\u001b[39m, \u001b[38;5;28;01mNone\u001b[39;00m)\n\u001b[32m    515\u001b[39m \u001b[38;5;66;03m# Get the response from http.client.HTTPConnection\u001b[39;00m\n\u001b[32m--> \u001b[39m\u001b[32m516\u001b[39m httplib_response = \u001b[38;5;28;43msuper\u001b[39;49m\u001b[43m(\u001b[49m\u001b[43m)\u001b[49m\u001b[43m.\u001b[49m\u001b[43mgetresponse\u001b[49m\u001b[43m(\u001b[49m\u001b[43m)\u001b[49m\n\u001b[32m    518\u001b[39m \u001b[38;5;28;01mtry\u001b[39;00m:\n\u001b[32m    519\u001b[39m     assert_header_parsing(httplib_response.msg)\n",
      "\u001b[36mFile \u001b[39m\u001b[32m/opt/miniconda3/envs/carvana/lib/python3.11/http/client.py:1395\u001b[39m, in \u001b[36mHTTPConnection.getresponse\u001b[39m\u001b[34m(self)\u001b[39m\n\u001b[32m   1393\u001b[39m \u001b[38;5;28;01mtry\u001b[39;00m:\n\u001b[32m   1394\u001b[39m     \u001b[38;5;28;01mtry\u001b[39;00m:\n\u001b[32m-> \u001b[39m\u001b[32m1395\u001b[39m         \u001b[43mresponse\u001b[49m\u001b[43m.\u001b[49m\u001b[43mbegin\u001b[49m\u001b[43m(\u001b[49m\u001b[43m)\u001b[49m\n\u001b[32m   1396\u001b[39m     \u001b[38;5;28;01mexcept\u001b[39;00m \u001b[38;5;167;01mConnectionError\u001b[39;00m:\n\u001b[32m   1397\u001b[39m         \u001b[38;5;28mself\u001b[39m.close()\n",
      "\u001b[36mFile \u001b[39m\u001b[32m/opt/miniconda3/envs/carvana/lib/python3.11/http/client.py:325\u001b[39m, in \u001b[36mHTTPResponse.begin\u001b[39m\u001b[34m(self)\u001b[39m\n\u001b[32m    323\u001b[39m \u001b[38;5;66;03m# read until we get a non-100 response\u001b[39;00m\n\u001b[32m    324\u001b[39m \u001b[38;5;28;01mwhile\u001b[39;00m \u001b[38;5;28;01mTrue\u001b[39;00m:\n\u001b[32m--> \u001b[39m\u001b[32m325\u001b[39m     version, status, reason = \u001b[38;5;28;43mself\u001b[39;49m\u001b[43m.\u001b[49m\u001b[43m_read_status\u001b[49m\u001b[43m(\u001b[49m\u001b[43m)\u001b[49m\n\u001b[32m    326\u001b[39m     \u001b[38;5;28;01mif\u001b[39;00m status != CONTINUE:\n\u001b[32m    327\u001b[39m         \u001b[38;5;28;01mbreak\u001b[39;00m\n",
      "\u001b[36mFile \u001b[39m\u001b[32m/opt/miniconda3/envs/carvana/lib/python3.11/http/client.py:286\u001b[39m, in \u001b[36mHTTPResponse._read_status\u001b[39m\u001b[34m(self)\u001b[39m\n\u001b[32m    285\u001b[39m \u001b[38;5;28;01mdef\u001b[39;00m\u001b[38;5;250m \u001b[39m\u001b[34m_read_status\u001b[39m(\u001b[38;5;28mself\u001b[39m):\n\u001b[32m--> \u001b[39m\u001b[32m286\u001b[39m     line = \u001b[38;5;28mstr\u001b[39m(\u001b[38;5;28mself\u001b[39m.fp.readline(_MAXLINE + \u001b[32m1\u001b[39m), \u001b[33m\"\u001b[39m\u001b[33miso-8859-1\u001b[39m\u001b[33m\"\u001b[39m)\n\u001b[32m    287\u001b[39m     \u001b[38;5;28;01mif\u001b[39;00m \u001b[38;5;28mlen\u001b[39m(line) > _MAXLINE:\n\u001b[32m    288\u001b[39m         \u001b[38;5;28;01mraise\u001b[39;00m LineTooLong(\u001b[33m\"\u001b[39m\u001b[33mstatus line\u001b[39m\u001b[33m\"\u001b[39m)\n",
      "\u001b[36mFile \u001b[39m\u001b[32m/opt/miniconda3/envs/carvana/lib/python3.11/socket.py:718\u001b[39m, in \u001b[36mSocketIO.readinto\u001b[39m\u001b[34m(self, b)\u001b[39m\n\u001b[32m    716\u001b[39m \u001b[38;5;28;01mwhile\u001b[39;00m \u001b[38;5;28;01mTrue\u001b[39;00m:\n\u001b[32m    717\u001b[39m     \u001b[38;5;28;01mtry\u001b[39;00m:\n\u001b[32m--> \u001b[39m\u001b[32m718\u001b[39m         \u001b[38;5;28;01mreturn\u001b[39;00m \u001b[38;5;28;43mself\u001b[39;49m\u001b[43m.\u001b[49m\u001b[43m_sock\u001b[49m\u001b[43m.\u001b[49m\u001b[43mrecv_into\u001b[49m\u001b[43m(\u001b[49m\u001b[43mb\u001b[49m\u001b[43m)\u001b[49m\n\u001b[32m    719\u001b[39m     \u001b[38;5;28;01mexcept\u001b[39;00m timeout:\n\u001b[32m    720\u001b[39m         \u001b[38;5;28mself\u001b[39m._timeout_occurred = \u001b[38;5;28;01mTrue\u001b[39;00m\n",
      "\u001b[31mKeyboardInterrupt\u001b[39m: "
     ]
    }
   ],
   "source": [
    "# Set up headless Chrome browser\n",
    "auto_check = \"https://apik.carvana.io/merch/vdp/api/autocheck/v1/get?vehicleId=\"\n",
    "failed_url = []\n",
    "\n",
    "\n",
    "for i, car_url in tqdm(enumerate(urls_tobe_scraped), total=len(urls_tobe_scraped), desc=\"Scraping car details\"):\n",
    "#for car_url in unique_urls:\n",
    "    try: \n",
    "    #if car_url not in scraped_urls:\n",
    "        options = Options()\n",
    "        #options.add_argument(\"--headless=new\")\n",
    "        options.add_argument(\"--disable-blink-features=AutomationControlled\")\n",
    "        options.add_argument(\"window-size=1920,1080\")\n",
    "        #options.add_argument(\"user-agent=Mozilla/5.0 (Windows NT 10.0; Win64; x64) AppleWebKit/537.36 (KHTML, like Gecko) Chrome/122.0.0.0 Safari/537.36\")\n",
    "        prefs = {\n",
    "                    \"profile.managed_default_content_settings.images\": 2,\n",
    "                    \"profile.managed_default_content_settings.stylesheets\": 2,\n",
    "                    \"profile.managed_default_content_settings.fonts\": 2\n",
    "                }\n",
    "        options.add_experimental_option(\"prefs\", prefs)\n",
    "\n",
    "        driver = webdriver.Chrome(service=Service(ChromeDriverManager().install()), options=options)\n",
    "\n",
    "        driver.get(car_url)\n",
    "        time.sleep(3)\n",
    "        car_soup = BeautifulSoup(driver.page_source, \"html.parser\")\n",
    "\n",
    "        auto_check_url = auto_check + car_url[-7:]\n",
    "        driver.get(auto_check_url)\n",
    "        time.sleep(3)\n",
    "        auto_check_soup = BeautifulSoup(driver.page_source, \"html.parser\")\n",
    "\n",
    "        driver.quit()\n",
    "\n",
    "        image_tags = car_soup.find_all(\"img\", {\"data-qa\": \"carousel-item\"})\n",
    "        image_urls = [img['src'] for img in image_tags if 'src' in img.attrs]\n",
    "\n",
    "        json_scripts = car_soup.find_all(\"script\", type=\"application/json\")\n",
    "        for script in json_scripts:\n",
    "            try:\n",
    "                json_data = json.loads(script.string)\n",
    "                vehicle_details = json_data.get(\"props\", {}).get(\"pageProps\", {}).get(\"forProviders\", {}).get(\"forVehicleContext\", {}).get(\"vehicleDetails\", {})\n",
    "                vehicle_details['url'] = car_url\n",
    "                try:\n",
    "                    owner = auto_check_soup.find(\"span\", class_=\"box-title-owners\").find(\"span\").text\n",
    "                except AttributeError:\n",
    "                    owner = \"1\"\n",
    "                vehicle_details['owners'] = owner\n",
    "\n",
    "                #vehicle_details['status'] = car_response.status_code\n",
    "                df = pd.DataFrame([vehicle_details])\n",
    "                #car_data = pd.concat([car_data, df], ignore_index=True)\n",
    "                df = df.reindex(columns=existing_cols, fill_value=\"\")\n",
    "                #df.to_csv(\"car_data.csv\", index=False, mode='a', header=False) # appends data to my existing file\n",
    "                with open('car_data.csv', mode='a', newline='', encoding='utf-8') as f:\n",
    "                    df.to_csv(f, index=False, header=False)\n",
    "                    f.flush()\n",
    "\n",
    "                #### scraping the image urls ####\n",
    "                image_df = pd.DataFrame([{'make': df.loc[0,'make'], 'model': df.loc[0,'model'], 'image_url': url} for url in image_urls])\n",
    "                with open('images.csv', mode='a', newline='', encoding='utf-8') as f:\n",
    "                    image_df.to_csv(f, index=False, header=False)\n",
    "                    f.flush()\n",
    "                \n",
    "            except json.JSONDecodeError:\n",
    "                continue\n",
    "            \n",
    "            time.sleep(random.uniform(1, 3))\n",
    "                \n",
    "    except Exception as e:\n",
    "        failed_url.append(car_url)"
   ]
  },
  {
   "cell_type": "code",
   "execution_count": 40,
   "metadata": {},
   "outputs": [
    {
     "name": "stdout",
     "output_type": "stream",
     "text": [
      "/opt/miniconda3/lib/python3.12/site-packages/conda/base/context.py:982: FutureWarning: Adding 'defaults' to the channel list implicitly is deprecated and will be removed in 25.3. \n",
      "\n",
      "To remove this warning, please choose a default channel explicitly via 'conda config --add channels <name>', e.g. 'conda config --add channels defaults'.\n",
      "  deprecated.topic(\n",
      "/opt/miniconda3/lib/python3.12/site-packages/conda/base/context.py:982: FutureWarning: Adding 'defaults' to the channel list implicitly is deprecated and will be removed in 25.3. \n",
      "\n",
      "To remove this warning, please choose a default channel explicitly via 'conda config --add channels <name>', e.g. 'conda config --add channels defaults'.\n",
      "  deprecated.topic(\n",
      "Channels:\n",
      " - defaults\n",
      " - conda-forge\n",
      "Platform: osx-arm64\n",
      "Collecting package metadata (repodata.json): done\n",
      "Solving environment: done\n",
      "\n",
      "## Package Plan ##\n",
      "\n",
      "  environment location: /opt/miniconda3/envs/carvana\n",
      "\n",
      "  added / updated specs:\n",
      "    - lxml\n",
      "\n",
      "\n",
      "The following packages will be downloaded:\n",
      "\n",
      "    package                    |            build\n",
      "    ---------------------------|-----------------\n",
      "    libxml2-2.13.7             |       h0b34f26_0         614 KB\n",
      "    libxslt-1.1.41             |       hf4d3faa_0         240 KB\n",
      "    lxml-5.3.0                 |  py311h1d4350b_1         1.3 MB\n",
      "    ------------------------------------------------------------\n",
      "                                           Total:         2.1 MB\n",
      "\n",
      "The following NEW packages will be INSTALLED:\n",
      "\n",
      "  icu                pkgs/main/osx-arm64::icu-73.1-h313beb8_0 \n",
      "  libiconv           pkgs/main/osx-arm64::libiconv-1.16-h80987f9_3 \n",
      "  libxml2            pkgs/main/osx-arm64::libxml2-2.13.7-h0b34f26_0 \n",
      "  libxslt            pkgs/main/osx-arm64::libxslt-1.1.41-hf4d3faa_0 \n",
      "  lxml               pkgs/main/osx-arm64::lxml-5.3.0-py311h1d4350b_1 \n",
      "\n",
      "\n",
      "Proceed ([y]/n)? ^C\n"
     ]
    }
   ],
   "source": [
    "! conda install lxml"
   ]
  },
  {
   "cell_type": "code",
   "execution_count": 34,
   "metadata": {},
   "outputs": [
    {
     "data": {
      "text/plain": [
       "210"
      ]
     },
     "execution_count": 34,
     "metadata": {},
     "output_type": "execute_result"
    }
   ],
   "source": [
    "len(result)"
   ]
  },
  {
   "cell_type": "code",
   "execution_count": 17,
   "metadata": {},
   "outputs": [
    {
     "name": "stdout",
     "output_type": "stream",
     "text": [
      "--- Page 1 ---\n",
      "--- Page 2 ---\n",
      "--- Page 3 ---\n",
      "--- Page 4 ---\n",
      "--- Page 5 ---\n",
      "--- Page 6 ---\n",
      "--- Page 7 ---\n",
      "--- Page 8 ---\n",
      "--- Page 9 ---\n",
      "--- Page 10 ---\n",
      "Total car links scraped: 210\n"
     ]
    }
   ],
   "source": [
    "import asyncio\n",
    "import json\n",
    "from bs4 import BeautifulSoup\n",
    "from playwright.async_api import async_playwright\n",
    "import nest_asyncio\n",
    "\n",
    "nest_asyncio.apply()\n",
    "\n",
    "async def scrape_carvana():\n",
    "    result = []\n",
    "    NUM_PAGES = 10\n",
    "    base_url = \"https://www.carvana.com/cars\"\n",
    "\n",
    "    async with async_playwright() as p:\n",
    "        browser = await p.chromium.launch(headless=False)\n",
    "        context = await browser.new_context(\n",
    "            viewport={\"width\": 100, \"height\": 50},\n",
    "            java_script_enabled=True,\n",
    "        )\n",
    "\n",
    "        # Block unnecessary resources (images, fonts, stylesheets)\n",
    "        async def block_junk(route):\n",
    "            if route.request.resource_type in [\"image\", \"stylesheet\", \"font\"]:\n",
    "                await route.abort()\n",
    "            else:\n",
    "                await route.continue_()\n",
    "\n",
    "        page = await context.new_page()\n",
    "        await page.route(\"**/*\", block_junk)\n",
    "        await page.goto(base_url, timeout=6000)\n",
    "\n",
    "        for i in range(NUM_PAGES):\n",
    "            print(f\"--- Page {i+1} ---\")\n",
    "\n",
    "            # Scroll as fast as possible to the bottom\n",
    "            previous_height = -1\n",
    "            while True:\n",
    "                await page.evaluate(\"window.scrollTo(0, document.body.scrollHeight)\")\n",
    "                await page.wait_for_timeout(10)  # FAST scroll\n",
    "                current_height = await page.evaluate(\"document.body.scrollHeight\")\n",
    "                if current_height == previous_height:\n",
    "                    break\n",
    "                previous_height = current_height\n",
    "\n",
    "            # Parse and extract data\n",
    "            html = await page.content()\n",
    "            soup = BeautifulSoup(html, \"html.parser\")\n",
    "            json_scripts = soup.find_all(\"script\", type=\"application/ld+json\")\n",
    "\n",
    "            for script in json_scripts:\n",
    "                try:\n",
    "                    data = json.loads(script.string)\n",
    "                    if data.get(\"@type\") == \"Vehicle\":\n",
    "                        result.append(data.get(\"offers\", {}).get(\"url\", \"\"))\n",
    "                except Exception:\n",
    "                    continue\n",
    "\n",
    "            # Click Next\n",
    "            try:\n",
    "                next_btn = await page.wait_for_selector('li[data-qa=\"next-page\"]', timeout=3000)\n",
    "                await next_btn.scroll_into_view_if_needed()\n",
    "                await next_btn.click()\n",
    "                await page.wait_for_timeout(200)  # Allow for next page to load\n",
    "            except Exception as e:\n",
    "                print(\"Next button not found or not clickable:\", e)\n",
    "                break\n",
    "\n",
    "        await browser.close()\n",
    "\n",
    "    print(f\"Total car links scraped: {len(result)}\")\n",
    "    return result\n",
    "\n",
    "# Run the async function\n",
    "results = await scrape_carvana()\n"
   ]
  },
  {
   "cell_type": "code",
   "execution_count": null,
   "metadata": {},
   "outputs": [],
   "source": []
  }
 ],
 "metadata": {
  "kernelspec": {
   "display_name": "carvana",
   "language": "python",
   "name": "python3"
  },
  "language_info": {
   "codemirror_mode": {
    "name": "ipython",
    "version": 3
   },
   "file_extension": ".py",
   "mimetype": "text/x-python",
   "name": "python",
   "nbconvert_exporter": "python",
   "pygments_lexer": "ipython3",
   "version": "3.11.11"
  }
 },
 "nbformat": 4,
 "nbformat_minor": 2
}
