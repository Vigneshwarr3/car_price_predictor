{
 "cells": [
  {
   "cell_type": "code",
   "execution_count": 4,
   "metadata": {},
   "outputs": [
    {
     "name": "stderr",
     "output_type": "stream",
     "text": [
      "/var/folders/bk/xhs0vwln2116v0d35hflv8b80000gn/T/ipykernel_11196/3352399789.py:2: DtypeWarning: Columns (80) have mixed types. Specify dtype option on import or set low_memory=False.\n",
      "  df = pd.read_csv('car_data.csv')\n"
     ]
    }
   ],
   "source": [
    "import pandas as pd\n",
    "df = pd.read_csv('car_data.csv')"
   ]
  },
  {
   "cell_type": "markdown",
   "metadata": {},
   "source": [
    "### Filling in null values"
   ]
  },
  {
   "cell_type": "code",
   "execution_count": 2,
   "metadata": {},
   "outputs": [],
   "source": [
    "def fill_null_values(data, groupby_cols, result_col):\n",
    "    return data[result_col].fillna(df.groupby(groupby_cols)[result_col].transform('mean')).round()"
   ]
  },
  {
   "cell_type": "code",
   "execution_count": 3,
   "metadata": {},
   "outputs": [],
   "source": [
    "#### Horsepower\n",
    "df['horsePower'] = fill_null_values(df, ['engineDescription'], 'horsePower')\n",
    "\n",
    "\n",
    "#mpgCity\n",
    "df['mpgCity'] = fill_null_values(df, ['make', 'model'], 'mpgCity')\n",
    "\n",
    "df['mpgHighway'] = fill_null_values(df, ['make', 'model'], 'mpgHighway')\n",
    "\n",
    "df['evMpgeCity'] = fill_null_values(df, ['make', 'model'], 'evMpgeCity')\n",
    "\n",
    "df['evMpgeHighway'] = fill_null_values(df, ['make', 'model'], 'evMpgeHighway')"
   ]
  },
  {
   "cell_type": "code",
   "execution_count": 4,
   "metadata": {},
   "outputs": [],
   "source": [
    "required_cols = [\n",
    "    'make',\n",
    "    'model',\n",
    "    'bodyType',\n",
    "    'year',\n",
    "    'seating',\n",
    "    'owners',\n",
    "    'fuelDescription',\n",
    "    'horsePower',\n",
    "    'drivetrainDescription',\n",
    "    'transmission',\n",
    "    'mileage',\n",
    "    'mpgCity',\n",
    "    'mpgHighway',\n",
    "    'evRange',\n",
    "    'evMpgeCity',\n",
    "    'evMpgeHighway',\n",
    "    'isAutocheckReportAccidentVehicle',\n",
    "    'price',\n",
    "]"
   ]
  },
  {
   "cell_type": "code",
   "execution_count": 5,
   "metadata": {},
   "outputs": [],
   "source": [
    "car_data = df[required_cols]"
   ]
  },
  {
   "cell_type": "markdown",
   "metadata": {},
   "source": [
    "### Cleaning Transmission column"
   ]
  },
  {
   "cell_type": "code",
   "execution_count": 6,
   "metadata": {},
   "outputs": [
    {
     "data": {
      "text/plain": [
       "transmission\n",
       "Auto      17911\n",
       "Manual     1486\n",
       "Name: count, dtype: int64"
      ]
     },
     "execution_count": 6,
     "metadata": {},
     "output_type": "execute_result"
    }
   ],
   "source": [
    "def cleanTransmission(x):\n",
    "\n",
    "    if 'manual' in x.lower():\n",
    "        return 'Manual'\n",
    "    else:\n",
    "        return 'Auto'\n",
    "    \n",
    "\n",
    "car_data.loc[:, 'transmission']=car_data['transmission'].apply(lambda x: cleanTransmission(x))\n",
    "car_data.loc[:,'transmission'].value_counts()"
   ]
  },
  {
   "cell_type": "markdown",
   "metadata": {},
   "source": [
    "## Cleaning Drive Train Column"
   ]
  },
  {
   "cell_type": "code",
   "execution_count": 7,
   "metadata": {},
   "outputs": [
    {
     "data": {
      "text/plain": [
       "drivetrainDescription\n",
       "FWD    7655\n",
       "AWD    6069\n",
       "4WD    2990\n",
       "RWD    2550\n",
       "2WD     133\n",
       "Name: count, dtype: int64"
      ]
     },
     "execution_count": 7,
     "metadata": {},
     "output_type": "execute_result"
    }
   ],
   "source": [
    "def cleanDriveTrain(x):\n",
    "\n",
    "    if 'awd' in x.lower():\n",
    "        return 'AWD'\n",
    "    else:\n",
    "        return x\n",
    "    \n",
    "\n",
    "car_data.loc[:, 'drivetrainDescription']=car_data['drivetrainDescription'].apply(lambda x: cleanDriveTrain(x))\n",
    "car_data.loc[:,'drivetrainDescription'].value_counts()"
   ]
  },
  {
   "cell_type": "markdown",
   "metadata": {},
   "source": [
    "### Finding Age of the car from Year"
   ]
  },
  {
   "cell_type": "code",
   "execution_count": 8,
   "metadata": {},
   "outputs": [
    {
     "name": "stderr",
     "output_type": "stream",
     "text": [
      "/var/folders/bk/xhs0vwln2116v0d35hflv8b80000gn/T/ipykernel_72830/675059998.py:1: SettingWithCopyWarning: \n",
      "A value is trying to be set on a copy of a slice from a DataFrame.\n",
      "Try using .loc[row_indexer,col_indexer] = value instead\n",
      "\n",
      "See the caveats in the documentation: https://pandas.pydata.org/pandas-docs/stable/user_guide/indexing.html#returning-a-view-versus-a-copy\n",
      "  car_data['age'] = 2025 - car_data['year']\n"
     ]
    }
   ],
   "source": [
    "car_data['age'] = 2025 - car_data['year']"
   ]
  },
  {
   "cell_type": "markdown",
   "metadata": {},
   "source": [
    "### Changing Column names"
   ]
  },
  {
   "cell_type": "code",
   "execution_count": 9,
   "metadata": {},
   "outputs": [
    {
     "name": "stderr",
     "output_type": "stream",
     "text": [
      "/var/folders/bk/xhs0vwln2116v0d35hflv8b80000gn/T/ipykernel_72830/3713363305.py:1: SettingWithCopyWarning: \n",
      "A value is trying to be set on a copy of a slice from a DataFrame\n",
      "\n",
      "See the caveats in the documentation: https://pandas.pydata.org/pandas-docs/stable/user_guide/indexing.html#returning-a-view-versus-a-copy\n",
      "  car_data.rename(columns={\n"
     ]
    }
   ],
   "source": [
    "car_data.rename(columns={\n",
    "    'seating': 'seats', \n",
    "    'owners': 'numOfOwners',\n",
    "    'fuelDescription': 'fuelType',\n",
    "    'drivetrainDescription': 'driveTrain',\n",
    "    'milage': 'milesDriven',\n",
    "    'isAutocheckReportAccidentVehicle': 'hasReportedAccident'}, inplace=True)"
   ]
  },
  {
   "cell_type": "code",
   "execution_count": 10,
   "metadata": {},
   "outputs": [
    {
     "name": "stderr",
     "output_type": "stream",
     "text": [
      "/var/folders/bk/xhs0vwln2116v0d35hflv8b80000gn/T/ipykernel_72830/2212989868.py:1: SettingWithCopyWarning: \n",
      "A value is trying to be set on a copy of a slice from a DataFrame\n",
      "\n",
      "See the caveats in the documentation: https://pandas.pydata.org/pandas-docs/stable/user_guide/indexing.html#returning-a-view-versus-a-copy\n",
      "  car_data.drop(columns=['year'], inplace=True)\n"
     ]
    }
   ],
   "source": [
    "car_data.drop(columns=['year'], inplace=True)"
   ]
  },
  {
   "cell_type": "code",
   "execution_count": 11,
   "metadata": {},
   "outputs": [],
   "source": [
    "mask = car_data['fuelType'] == 'Electric'\n",
    "car_data.loc[mask, ['mpgCity', 'mpgHighway']] = car_data.loc[mask, ['mpgCity', 'mpgHighway']].fillna(0)"
   ]
  },
  {
   "cell_type": "code",
   "execution_count": 12,
   "metadata": {},
   "outputs": [],
   "source": [
    "mask = car_data['fuelType'] == 'Gas'\n",
    "car_data.loc[mask, ['evRange', 'evMpgeCity', 'evMpgeHighway']] = car_data.loc[mask, ['evRange', 'evMpgeCity', 'evMpgeHighway']].fillna(0)"
   ]
  },
  {
   "cell_type": "code",
   "execution_count": 13,
   "metadata": {},
   "outputs": [],
   "source": [
    "mask = car_data['fuelType'] == 'Flexible Fuel'\n",
    "car_data.loc[mask, ['evRange', 'evMpgeCity', 'evMpgeHighway']] = car_data.loc[mask, ['evRange', 'evMpgeCity', 'evMpgeHighway']].fillna(0)"
   ]
  },
  {
   "cell_type": "code",
   "execution_count": 18,
   "metadata": {},
   "outputs": [],
   "source": [
    "car_data = car_data.dropna()\n",
    "\n",
    "car_data.to_csv('cleaned_data.csv', index=False)"
   ]
  },
  {
   "cell_type": "code",
   "execution_count": 93,
   "metadata": {},
   "outputs": [],
   "source": [
    "filter_df = car_data[['make', 'model', 'bodyType', 'fuelType','driveTrain', 'transmission', 'seats', 'horsePower']]"
   ]
  },
  {
   "cell_type": "code",
   "execution_count": 94,
   "metadata": {},
   "outputs": [],
   "source": [
    "filter_df = filter_df.drop_duplicates()"
   ]
  },
  {
   "cell_type": "code",
   "execution_count": 95,
   "metadata": {},
   "outputs": [],
   "source": [
    "filter_df.to_csv('filter_data.csv', index=False)"
   ]
  }
 ],
 "metadata": {
  "kernelspec": {
   "display_name": "carvana",
   "language": "python",
   "name": "python3"
  },
  "language_info": {
   "codemirror_mode": {
    "name": "ipython",
    "version": 3
   },
   "file_extension": ".py",
   "mimetype": "text/x-python",
   "name": "python",
   "nbconvert_exporter": "python",
   "pygments_lexer": "ipython3",
   "version": "3.11.11"
  }
 },
 "nbformat": 4,
 "nbformat_minor": 2
}
