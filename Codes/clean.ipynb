{
 "cells": [
  {
   "cell_type": "code",
   "execution_count": 1,
   "metadata": {},
   "outputs": [
    {
     "name": "stderr",
     "output_type": "stream",
     "text": [
      "/var/folders/bk/xhs0vwln2116v0d35hflv8b80000gn/T/ipykernel_72830/3352399789.py:2: DtypeWarning: Columns (80) have mixed types. Specify dtype option on import or set low_memory=False.\n",
      "  df = pd.read_csv('car_data.csv')\n"
     ]
    }
   ],
   "source": [
    "import pandas as pd\n",
    "df = pd.read_csv('car_data.csv')"
   ]
  },
  {
   "cell_type": "markdown",
   "metadata": {},
   "source": [
    "### Filling in null values"
   ]
  },
  {
   "cell_type": "code",
   "execution_count": 2,
   "metadata": {},
   "outputs": [],
   "source": [
    "def fill_null_values(data, groupby_cols, result_col):\n",
    "    return data[result_col].fillna(df.groupby(groupby_cols)[result_col].transform('mean')).round()"
   ]
  },
  {
   "cell_type": "code",
   "execution_count": 3,
   "metadata": {},
   "outputs": [],
   "source": [
    "#### Horsepower\n",
    "df['horsePower'] = fill_null_values(df, ['engineDescription'], 'horsePower')\n",
    "\n",
    "\n",
    "#mpgCity\n",
    "df['mpgCity'] = fill_null_values(df, ['make', 'model'], 'mpgCity')\n",
    "\n",
    "df['mpgHighway'] = fill_null_values(df, ['make', 'model'], 'mpgHighway')\n",
    "\n",
    "df['evMpgeCity'] = fill_null_values(df, ['make', 'model'], 'evMpgeCity')\n",
    "\n",
    "df['evMpgeHighway'] = fill_null_values(df, ['make', 'model'], 'evMpgeHighway')"
   ]
  },
  {
   "cell_type": "code",
   "execution_count": 4,
   "metadata": {},
   "outputs": [],
   "source": [
    "required_cols = [\n",
    "    'make',\n",
    "    'model',\n",
    "    'bodyType',\n",
    "    'year',\n",
    "    'seating',\n",
    "    'owners',\n",
    "    'fuelDescription',\n",
    "    'horsePower',\n",
    "    'drivetrainDescription',\n",
    "    'transmission',\n",
    "    'mileage',\n",
    "    'mpgCity',\n",
    "    'mpgHighway',\n",
    "    'evRange',\n",
    "    'evMpgeCity',\n",
    "    'evMpgeHighway',\n",
    "    'isAutocheckReportAccidentVehicle',\n",
    "    'price',\n",
    "]"
   ]
  },
  {
   "cell_type": "code",
   "execution_count": 5,
   "metadata": {},
   "outputs": [],
   "source": [
    "car_data = df[required_cols]"
   ]
  },
  {
   "cell_type": "markdown",
   "metadata": {},
   "source": [
    "### Cleaning Transmission column"
   ]
  },
  {
   "cell_type": "code",
   "execution_count": 6,
   "metadata": {},
   "outputs": [
    {
     "data": {
      "text/plain": [
       "transmission\n",
       "Auto      17911\n",
       "Manual     1486\n",
       "Name: count, dtype: int64"
      ]
     },
     "execution_count": 6,
     "metadata": {},
     "output_type": "execute_result"
    }
   ],
   "source": [
    "def cleanTransmission(x):\n",
    "\n",
    "    if 'manual' in x.lower():\n",
    "        return 'Manual'\n",
    "    else:\n",
    "        return 'Auto'\n",
    "    \n",
    "\n",
    "car_data.loc[:, 'transmission']=car_data['transmission'].apply(lambda x: cleanTransmission(x))\n",
    "car_data.loc[:,'transmission'].value_counts()"
   ]
  },
  {
   "cell_type": "markdown",
   "metadata": {},
   "source": [
    "## Cleaning Drive Train Column"
   ]
  },
  {
   "cell_type": "code",
   "execution_count": 7,
   "metadata": {},
   "outputs": [
    {
     "data": {
      "text/plain": [
       "drivetrainDescription\n",
       "FWD    7655\n",
       "AWD    6069\n",
       "4WD    2990\n",
       "RWD    2550\n",
       "2WD     133\n",
       "Name: count, dtype: int64"
      ]
     },
     "execution_count": 7,
     "metadata": {},
     "output_type": "execute_result"
    }
   ],
   "source": [
    "def cleanDriveTrain(x):\n",
    "\n",
    "    if 'awd' in x.lower():\n",
    "        return 'AWD'\n",
    "    else:\n",
    "        return x\n",
    "    \n",
    "\n",
    "car_data.loc[:, 'drivetrainDescription']=car_data['drivetrainDescription'].apply(lambda x: cleanDriveTrain(x))\n",
    "car_data.loc[:,'drivetrainDescription'].value_counts()"
   ]
  },
  {
   "cell_type": "markdown",
   "metadata": {},
   "source": [
    "### Finding Age of the car from Year"
   ]
  },
  {
   "cell_type": "code",
   "execution_count": 8,
   "metadata": {},
   "outputs": [
    {
     "name": "stderr",
     "output_type": "stream",
     "text": [
      "/var/folders/bk/xhs0vwln2116v0d35hflv8b80000gn/T/ipykernel_72830/675059998.py:1: SettingWithCopyWarning: \n",
      "A value is trying to be set on a copy of a slice from a DataFrame.\n",
      "Try using .loc[row_indexer,col_indexer] = value instead\n",
      "\n",
      "See the caveats in the documentation: https://pandas.pydata.org/pandas-docs/stable/user_guide/indexing.html#returning-a-view-versus-a-copy\n",
      "  car_data['age'] = 2025 - car_data['year']\n"
     ]
    }
   ],
   "source": [
    "car_data['age'] = 2025 - car_data['year']"
   ]
  },
  {
   "cell_type": "markdown",
   "metadata": {},
   "source": [
    "### Changing Column names"
   ]
  },
  {
   "cell_type": "code",
   "execution_count": 9,
   "metadata": {},
   "outputs": [
    {
     "name": "stderr",
     "output_type": "stream",
     "text": [
      "/var/folders/bk/xhs0vwln2116v0d35hflv8b80000gn/T/ipykernel_72830/3713363305.py:1: SettingWithCopyWarning: \n",
      "A value is trying to be set on a copy of a slice from a DataFrame\n",
      "\n",
      "See the caveats in the documentation: https://pandas.pydata.org/pandas-docs/stable/user_guide/indexing.html#returning-a-view-versus-a-copy\n",
      "  car_data.rename(columns={\n"
     ]
    }
   ],
   "source": [
    "car_data.rename(columns={\n",
    "    'seating': 'seats', \n",
    "    'owners': 'numOfOwners',\n",
    "    'fuelDescription': 'fuelType',\n",
    "    'drivetrainDescription': 'driveTrain',\n",
    "    'milage': 'milesDriven',\n",
    "    'isAutocheckReportAccidentVehicle': 'hasReportedAccident'}, inplace=True)"
   ]
  },
  {
   "cell_type": "code",
   "execution_count": 10,
   "metadata": {},
   "outputs": [
    {
     "name": "stderr",
     "output_type": "stream",
     "text": [
      "/var/folders/bk/xhs0vwln2116v0d35hflv8b80000gn/T/ipykernel_72830/2212989868.py:1: SettingWithCopyWarning: \n",
      "A value is trying to be set on a copy of a slice from a DataFrame\n",
      "\n",
      "See the caveats in the documentation: https://pandas.pydata.org/pandas-docs/stable/user_guide/indexing.html#returning-a-view-versus-a-copy\n",
      "  car_data.drop(columns=['year'], inplace=True)\n"
     ]
    }
   ],
   "source": [
    "car_data.drop(columns=['year'], inplace=True)"
   ]
  },
  {
   "cell_type": "code",
   "execution_count": 11,
   "metadata": {},
   "outputs": [],
   "source": [
    "mask = car_data['fuelType'] == 'Electric'\n",
    "car_data.loc[mask, ['mpgCity', 'mpgHighway']] = car_data.loc[mask, ['mpgCity', 'mpgHighway']].fillna(0)"
   ]
  },
  {
   "cell_type": "code",
   "execution_count": 12,
   "metadata": {},
   "outputs": [],
   "source": [
    "mask = car_data['fuelType'] == 'Gas'\n",
    "car_data.loc[mask, ['evRange', 'evMpgeCity', 'evMpgeHighway']] = car_data.loc[mask, ['evRange', 'evMpgeCity', 'evMpgeHighway']].fillna(0)"
   ]
  },
  {
   "cell_type": "code",
   "execution_count": 13,
   "metadata": {},
   "outputs": [],
   "source": [
    "mask = car_data['fuelType'] == 'Flexible Fuel'\n",
    "car_data.loc[mask, ['evRange', 'evMpgeCity', 'evMpgeHighway']] = car_data.loc[mask, ['evRange', 'evMpgeCity', 'evMpgeHighway']].fillna(0)"
   ]
  },
  {
   "cell_type": "code",
   "execution_count": 20,
   "metadata": {},
   "outputs": [
    {
     "data": {
      "text/plain": [
       "18485"
      ]
     },
     "execution_count": 20,
     "metadata": {},
     "output_type": "execute_result"
    }
   ],
   "source": [
    "len(car_data)"
   ]
  },
  {
   "cell_type": "code",
   "execution_count": 15,
   "metadata": {},
   "outputs": [
    {
     "data": {
      "text/plain": [
       "18485"
      ]
     },
     "execution_count": 15,
     "metadata": {},
     "output_type": "execute_result"
    }
   ],
   "source": [
    "len(car_data.dropna())"
   ]
  },
  {
   "cell_type": "code",
   "execution_count": 16,
   "metadata": {},
   "outputs": [
    {
     "data": {
      "text/plain": [
       "['Wagon',\n",
       " 'Truck',\n",
       " 'Sedan',\n",
       " 'SUV',\n",
       " 'Convertible',\n",
       " 'Hatchback',\n",
       " 'Van',\n",
       " 'Coupe',\n",
       " 'Minivan']"
      ]
     },
     "execution_count": 16,
     "metadata": {},
     "output_type": "execute_result"
    }
   ],
   "source": [
    "car_data['bodyType'].unique().tolist()"
   ]
  },
  {
   "cell_type": "code",
   "execution_count": 67,
   "metadata": {},
   "outputs": [
    {
     "data": {
      "text/plain": [
       "Index(['make', 'model', 'bodyType', 'seats', 'numOfOwners', 'fuelType',\n",
       "       'horsePower', 'driveTrain', 'transmission', 'mileage', 'mpgCity',\n",
       "       'mpgHighway', 'evRange', 'evMpgeCity', 'evMpgeHighway',\n",
       "       'hasReportedAccident', 'price', 'age'],\n",
       "      dtype='object')"
      ]
     },
     "execution_count": 67,
     "metadata": {},
     "output_type": "execute_result"
    }
   ],
   "source": [
    "car_data.columns"
   ]
  },
  {
   "cell_type": "code",
   "execution_count": 17,
   "metadata": {},
   "outputs": [
    {
     "data": {
      "text/plain": [
       "hasReportedAccident\n",
       "False    16528\n",
       "True      2869\n",
       "Name: count, dtype: int64"
      ]
     },
     "execution_count": 17,
     "metadata": {},
     "output_type": "execute_result"
    }
   ],
   "source": [
    "car_data['hasReportedAccident'].value_counts()"
   ]
  },
  {
   "cell_type": "code",
   "execution_count": null,
   "metadata": {},
   "outputs": [],
   "source": []
  },
  {
   "cell_type": "code",
   "execution_count": 18,
   "metadata": {},
   "outputs": [],
   "source": [
    "car_data = car_data.dropna()\n",
    "\n",
    "car_data.to_csv('cleaned_data.csv', index=False)"
   ]
  },
  {
   "cell_type": "code",
   "execution_count": 93,
   "metadata": {},
   "outputs": [],
   "source": [
    "filter_df = car_data[['make', 'model', 'bodyType', 'fuelType','driveTrain', 'transmission', 'seats', 'horsePower']]"
   ]
  },
  {
   "cell_type": "code",
   "execution_count": 94,
   "metadata": {},
   "outputs": [],
   "source": [
    "filter_df = filter_df.drop_duplicates()"
   ]
  },
  {
   "cell_type": "code",
   "execution_count": 95,
   "metadata": {},
   "outputs": [],
   "source": [
    "filter_df.to_csv('filter_data.csv', index=False)"
   ]
  },
  {
   "cell_type": "code",
   "execution_count": 82,
   "metadata": {},
   "outputs": [
    {
     "data": {
      "text/plain": [
       "array(['Gas', 'Electric', 'Hybrid', 'Flexible Fuel', 'Diesel',\n",
       "       'Plug-In Hybrid'], dtype=object)"
      ]
     },
     "execution_count": 82,
     "metadata": {},
     "output_type": "execute_result"
    }
   ],
   "source": [
    "car_data['fuelType'].unique()"
   ]
  },
  {
   "cell_type": "code",
   "execution_count": 19,
   "metadata": {},
   "outputs": [
    {
     "data": {
      "text/plain": [
       "make                   0\n",
       "model                  0\n",
       "bodyType               0\n",
       "seats                  0\n",
       "numOfOwners            0\n",
       "fuelType               0\n",
       "horsePower             0\n",
       "driveTrain             0\n",
       "transmission           0\n",
       "mileage                0\n",
       "mpgCity                0\n",
       "mpgHighway             0\n",
       "evRange                0\n",
       "evMpgeCity             0\n",
       "evMpgeHighway          0\n",
       "hasReportedAccident    0\n",
       "price                  0\n",
       "age                    0\n",
       "dtype: int64"
      ]
     },
     "execution_count": 19,
     "metadata": {},
     "output_type": "execute_result"
    }
   ],
   "source": [
    "car_data[car_data['fuelType']=='Electric'].isnull().sum()"
   ]
  },
  {
   "cell_type": "code",
   "execution_count": 90,
   "metadata": {},
   "outputs": [
    {
     "data": {
      "text/html": [
       "<div>\n",
       "<style scoped>\n",
       "    .dataframe tbody tr th:only-of-type {\n",
       "        vertical-align: middle;\n",
       "    }\n",
       "\n",
       "    .dataframe tbody tr th {\n",
       "        vertical-align: top;\n",
       "    }\n",
       "\n",
       "    .dataframe thead th {\n",
       "        text-align: right;\n",
       "    }\n",
       "</style>\n",
       "<table border=\"1\" class=\"dataframe\">\n",
       "  <thead>\n",
       "    <tr style=\"text-align: right;\">\n",
       "      <th></th>\n",
       "      <th>make</th>\n",
       "      <th>model</th>\n",
       "      <th>bodyType</th>\n",
       "      <th>seats</th>\n",
       "      <th>numOfOwners</th>\n",
       "      <th>fuelType</th>\n",
       "      <th>horsePower</th>\n",
       "      <th>driveTrain</th>\n",
       "      <th>transmission</th>\n",
       "      <th>mileage</th>\n",
       "      <th>mpgCity</th>\n",
       "      <th>mpgHighway</th>\n",
       "      <th>evRange</th>\n",
       "      <th>evMpgeCity</th>\n",
       "      <th>evMpgeHighway</th>\n",
       "      <th>hasReportedAccident</th>\n",
       "      <th>price</th>\n",
       "      <th>age</th>\n",
       "    </tr>\n",
       "  </thead>\n",
       "  <tbody>\n",
       "    <tr>\n",
       "      <th>9</th>\n",
       "      <td>Tesla</td>\n",
       "      <td>Model 3</td>\n",
       "      <td>Sedan</td>\n",
       "      <td>5</td>\n",
       "      <td>1</td>\n",
       "      <td>Electric</td>\n",
       "      <td>510.0</td>\n",
       "      <td>AWD</td>\n",
       "      <td>Auto</td>\n",
       "      <td>4472</td>\n",
       "      <td>0.0</td>\n",
       "      <td>0.0</td>\n",
       "      <td>315.0</td>\n",
       "      <td>118.0</td>\n",
       "      <td>107.0</td>\n",
       "      <td>False</td>\n",
       "      <td>32990</td>\n",
       "      <td>4</td>\n",
       "    </tr>\n",
       "    <tr>\n",
       "      <th>11</th>\n",
       "      <td>Volkswagen</td>\n",
       "      <td>ID.4</td>\n",
       "      <td>SUV</td>\n",
       "      <td>5</td>\n",
       "      <td>2</td>\n",
       "      <td>Electric</td>\n",
       "      <td>201.0</td>\n",
       "      <td>RWD</td>\n",
       "      <td>Auto</td>\n",
       "      <td>24226</td>\n",
       "      <td>0.0</td>\n",
       "      <td>0.0</td>\n",
       "      <td>250.0</td>\n",
       "      <td>104.0</td>\n",
       "      <td>89.0</td>\n",
       "      <td>False</td>\n",
       "      <td>25990</td>\n",
       "      <td>3</td>\n",
       "    </tr>\n",
       "    <tr>\n",
       "      <th>36</th>\n",
       "      <td>Audi</td>\n",
       "      <td>Q4 e-tron</td>\n",
       "      <td>SUV</td>\n",
       "      <td>5</td>\n",
       "      <td>1</td>\n",
       "      <td>Electric</td>\n",
       "      <td>201.0</td>\n",
       "      <td>RWD</td>\n",
       "      <td>Auto</td>\n",
       "      <td>12462</td>\n",
       "      <td>0.0</td>\n",
       "      <td>0.0</td>\n",
       "      <td>265.0</td>\n",
       "      <td>112.0</td>\n",
       "      <td>94.0</td>\n",
       "      <td>False</td>\n",
       "      <td>39590</td>\n",
       "      <td>1</td>\n",
       "    </tr>\n",
       "    <tr>\n",
       "      <th>61</th>\n",
       "      <td>Rivian</td>\n",
       "      <td>R1S</td>\n",
       "      <td>SUV</td>\n",
       "      <td>7</td>\n",
       "      <td>1</td>\n",
       "      <td>Electric</td>\n",
       "      <td>600.0</td>\n",
       "      <td>AWD</td>\n",
       "      <td>Auto</td>\n",
       "      <td>19772</td>\n",
       "      <td>0.0</td>\n",
       "      <td>0.0</td>\n",
       "      <td>321.0</td>\n",
       "      <td>82.0</td>\n",
       "      <td>74.0</td>\n",
       "      <td>False</td>\n",
       "      <td>77990</td>\n",
       "      <td>2</td>\n",
       "    </tr>\n",
       "    <tr>\n",
       "      <th>91</th>\n",
       "      <td>Tesla</td>\n",
       "      <td>Model 3</td>\n",
       "      <td>Sedan</td>\n",
       "      <td>5</td>\n",
       "      <td>1</td>\n",
       "      <td>Electric</td>\n",
       "      <td>510.0</td>\n",
       "      <td>AWD</td>\n",
       "      <td>Auto</td>\n",
       "      <td>35879</td>\n",
       "      <td>0.0</td>\n",
       "      <td>0.0</td>\n",
       "      <td>385.0</td>\n",
       "      <td>134.0</td>\n",
       "      <td>126.0</td>\n",
       "      <td>False</td>\n",
       "      <td>28990</td>\n",
       "      <td>3</td>\n",
       "    </tr>\n",
       "    <tr>\n",
       "      <th>...</th>\n",
       "      <td>...</td>\n",
       "      <td>...</td>\n",
       "      <td>...</td>\n",
       "      <td>...</td>\n",
       "      <td>...</td>\n",
       "      <td>...</td>\n",
       "      <td>...</td>\n",
       "      <td>...</td>\n",
       "      <td>...</td>\n",
       "      <td>...</td>\n",
       "      <td>...</td>\n",
       "      <td>...</td>\n",
       "      <td>...</td>\n",
       "      <td>...</td>\n",
       "      <td>...</td>\n",
       "      <td>...</td>\n",
       "      <td>...</td>\n",
       "      <td>...</td>\n",
       "    </tr>\n",
       "    <tr>\n",
       "      <th>14835</th>\n",
       "      <td>Kia</td>\n",
       "      <td>EV6</td>\n",
       "      <td>SUV</td>\n",
       "      <td>5</td>\n",
       "      <td>1</td>\n",
       "      <td>Electric</td>\n",
       "      <td>320.0</td>\n",
       "      <td>AWD</td>\n",
       "      <td>Auto</td>\n",
       "      <td>27349</td>\n",
       "      <td>0.0</td>\n",
       "      <td>0.0</td>\n",
       "      <td>274.0</td>\n",
       "      <td>116.0</td>\n",
       "      <td>94.0</td>\n",
       "      <td>False</td>\n",
       "      <td>29990</td>\n",
       "      <td>3</td>\n",
       "    </tr>\n",
       "    <tr>\n",
       "      <th>14840</th>\n",
       "      <td>Tesla</td>\n",
       "      <td>Model S</td>\n",
       "      <td>Sedan</td>\n",
       "      <td>5</td>\n",
       "      <td>1</td>\n",
       "      <td>Electric</td>\n",
       "      <td>362.0</td>\n",
       "      <td>RWD</td>\n",
       "      <td>Auto</td>\n",
       "      <td>37343</td>\n",
       "      <td>0.0</td>\n",
       "      <td>0.0</td>\n",
       "      <td>265.0</td>\n",
       "      <td>88.0</td>\n",
       "      <td>90.0</td>\n",
       "      <td>False</td>\n",
       "      <td>24590</td>\n",
       "      <td>10</td>\n",
       "    </tr>\n",
       "    <tr>\n",
       "      <th>14852</th>\n",
       "      <td>Tesla</td>\n",
       "      <td>Model Y</td>\n",
       "      <td>SUV</td>\n",
       "      <td>5</td>\n",
       "      <td>2</td>\n",
       "      <td>Electric</td>\n",
       "      <td>442.0</td>\n",
       "      <td>AWD</td>\n",
       "      <td>Auto</td>\n",
       "      <td>21679</td>\n",
       "      <td>0.0</td>\n",
       "      <td>0.0</td>\n",
       "      <td>303.0</td>\n",
       "      <td>115.0</td>\n",
       "      <td>106.0</td>\n",
       "      <td>False</td>\n",
       "      <td>29990</td>\n",
       "      <td>4</td>\n",
       "    </tr>\n",
       "    <tr>\n",
       "      <th>14888</th>\n",
       "      <td>Chevrolet</td>\n",
       "      <td>Bolt EV</td>\n",
       "      <td>Hatchback</td>\n",
       "      <td>5</td>\n",
       "      <td>1</td>\n",
       "      <td>Electric</td>\n",
       "      <td>200.0</td>\n",
       "      <td>FWD</td>\n",
       "      <td>Auto</td>\n",
       "      <td>41307</td>\n",
       "      <td>0.0</td>\n",
       "      <td>0.0</td>\n",
       "      <td>259.0</td>\n",
       "      <td>131.0</td>\n",
       "      <td>109.0</td>\n",
       "      <td>False</td>\n",
       "      <td>18990</td>\n",
       "      <td>2</td>\n",
       "    </tr>\n",
       "    <tr>\n",
       "      <th>14889</th>\n",
       "      <td>Kia</td>\n",
       "      <td>EV6</td>\n",
       "      <td>SUV</td>\n",
       "      <td>5</td>\n",
       "      <td>1</td>\n",
       "      <td>Electric</td>\n",
       "      <td>225.0</td>\n",
       "      <td>RWD</td>\n",
       "      <td>Auto</td>\n",
       "      <td>20308</td>\n",
       "      <td>0.0</td>\n",
       "      <td>0.0</td>\n",
       "      <td>282.0</td>\n",
       "      <td>120.0</td>\n",
       "      <td>98.0</td>\n",
       "      <td>True</td>\n",
       "      <td>29590</td>\n",
       "      <td>2</td>\n",
       "    </tr>\n",
       "  </tbody>\n",
       "</table>\n",
       "<p>1078 rows × 18 columns</p>\n",
       "</div>"
      ],
      "text/plain": [
       "             make      model   bodyType  seats  numOfOwners  fuelType  \\\n",
       "9           Tesla    Model 3      Sedan      5            1  Electric   \n",
       "11     Volkswagen       ID.4        SUV      5            2  Electric   \n",
       "36           Audi  Q4 e-tron        SUV      5            1  Electric   \n",
       "61         Rivian        R1S        SUV      7            1  Electric   \n",
       "91          Tesla    Model 3      Sedan      5            1  Electric   \n",
       "...           ...        ...        ...    ...          ...       ...   \n",
       "14835         Kia        EV6        SUV      5            1  Electric   \n",
       "14840       Tesla    Model S      Sedan      5            1  Electric   \n",
       "14852       Tesla    Model Y        SUV      5            2  Electric   \n",
       "14888   Chevrolet    Bolt EV  Hatchback      5            1  Electric   \n",
       "14889         Kia        EV6        SUV      5            1  Electric   \n",
       "\n",
       "       horsePower driveTrain transmission  mileage  mpgCity  mpgHighway  \\\n",
       "9           510.0        AWD         Auto     4472      0.0         0.0   \n",
       "11          201.0        RWD         Auto    24226      0.0         0.0   \n",
       "36          201.0        RWD         Auto    12462      0.0         0.0   \n",
       "61          600.0        AWD         Auto    19772      0.0         0.0   \n",
       "91          510.0        AWD         Auto    35879      0.0         0.0   \n",
       "...           ...        ...          ...      ...      ...         ...   \n",
       "14835       320.0        AWD         Auto    27349      0.0         0.0   \n",
       "14840       362.0        RWD         Auto    37343      0.0         0.0   \n",
       "14852       442.0        AWD         Auto    21679      0.0         0.0   \n",
       "14888       200.0        FWD         Auto    41307      0.0         0.0   \n",
       "14889       225.0        RWD         Auto    20308      0.0         0.0   \n",
       "\n",
       "       evRange  evMpgeCity  evMpgeHighway  hasReportedAccident  price  age  \n",
       "9        315.0       118.0          107.0                False  32990    4  \n",
       "11       250.0       104.0           89.0                False  25990    3  \n",
       "36       265.0       112.0           94.0                False  39590    1  \n",
       "61       321.0        82.0           74.0                False  77990    2  \n",
       "91       385.0       134.0          126.0                False  28990    3  \n",
       "...        ...         ...            ...                  ...    ...  ...  \n",
       "14835    274.0       116.0           94.0                False  29990    3  \n",
       "14840    265.0        88.0           90.0                False  24590   10  \n",
       "14852    303.0       115.0          106.0                False  29990    4  \n",
       "14888    259.0       131.0          109.0                False  18990    2  \n",
       "14889    282.0       120.0           98.0                 True  29590    2  \n",
       "\n",
       "[1078 rows x 18 columns]"
      ]
     },
     "execution_count": 90,
     "metadata": {},
     "output_type": "execute_result"
    }
   ],
   "source": [
    "car_data[car_data['fuelType']=='Electric']"
   ]
  },
  {
   "cell_type": "code",
   "execution_count": null,
   "metadata": {},
   "outputs": [],
   "source": []
  }
 ],
 "metadata": {
  "kernelspec": {
   "display_name": "carvana",
   "language": "python",
   "name": "python3"
  },
  "language_info": {
   "codemirror_mode": {
    "name": "ipython",
    "version": 3
   },
   "file_extension": ".py",
   "mimetype": "text/x-python",
   "name": "python",
   "nbconvert_exporter": "python",
   "pygments_lexer": "ipython3",
   "version": "3.11.11"
  }
 },
 "nbformat": 4,
 "nbformat_minor": 2
}
